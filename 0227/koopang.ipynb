{
 "cells": [
  {
   "cell_type": "markdown",
   "metadata": {},
   "source": [
    "koopang"
   ]
  },
  {
   "cell_type": "code",
   "execution_count": 1,
   "metadata": {},
   "outputs": [],
   "source": [
    "r = 3\n",
    "delivery = [[1, 5], [8, 3], [4, 2], [2, 3], [3, 1], [3, 2], [4, 2], [5, 2], [4, 1]]\n",
    "index = [[0, 0], [0, 1], [0, 2], [1, 0], [1, 1], [1, 2], [2, 0], [2, 1], [2, 2]]"
   ]
  },
  {
   "cell_type": "code",
   "execution_count": 2,
   "metadata": {},
   "outputs": [
    {
     "name": "stdout",
     "output_type": "stream",
     "text": [
      "[1, 5]([0, 0]) [8, 3]([0, 1]) [4, 2]([0, 2]) \n",
      "[2, 3]([1, 0]) [3, 1]([1, 1]) [3, 2]([1, 2]) \n",
      "[4, 2]([2, 0]) [5, 2]([2, 1]) [4, 1]([2, 2]) \n"
     ]
    }
   ],
   "source": [
    "for i in range(r):\n",
    "    for j in range(r):\n",
    "        # print(i * r + j, end = ', ')\n",
    "        print('{}({})'.format(delivery[i * r + j], index[i * r + j]), end = ' ')\n",
    "    print()"
   ]
  },
  {
   "cell_type": "code",
   "execution_count": 3,
   "metadata": {},
   "outputs": [
    {
     "name": "stdout",
     "output_type": "stream",
     "text": [
      "[[1, 5], [2, 3], [3, 2], [3, 1], [4, 2], [4, 2], [4, 1], [5, 2], [8, 3]]\n",
      "[[0, 0], [1, 0], [1, 2], [1, 1], [0, 2], [2, 0], [2, 2], [2, 1], [0, 1]]\n"
     ]
    }
   ],
   "source": [
    "deliverySort = delivery\n",
    "indexSort = index\n",
    "for i in range(len(deliverySort) - 1):\n",
    "    for j in range(i + 1, len(deliverySort)):\n",
    "        if deliverySort[i][0] > deliverySort[j][0]:\n",
    "            deliverySort[i], deliverySort[j] = deliverySort[j], deliverySort[i]\n",
    "            indexSort[i], indexSort[j] = indexSort[j], indexSort[i]\n",
    "        elif deliverySort[i][0] == deliverySort[j][0]:\n",
    "            if deliverySort[i][1] < deliverySort[j][1]:\n",
    "                deliverySort[i], deliverySort[j] = deliverySort[j], deliverySort[i]\n",
    "                indexSort[i], indexSort[j] = indexSort[j], indexSort[i]\n",
    "print(deliverySort)\n",
    "print(indexSort)"
   ]
  },
  {
   "cell_type": "code",
   "execution_count": 4,
   "metadata": {},
   "outputs": [
    {
     "name": "stdout",
     "output_type": "stream",
     "text": [
      "[[1, 5], [2, 3], [3, 2], [4, 2], [5, 2], [8, 3]]\n",
      "[[0, 0], [1, 0], [1, 2], [0, 2], [2, 1], [0, 1]]\n"
     ]
    }
   ],
   "source": [
    "deliveryReault = [deliverySort[0]]\n",
    "indexResult = [indexSort[0]]\n",
    "for i in range(1, len(deliverySort)):\n",
    "    if deliverySort[i - 1][0] != deliverySort[i][0]:\n",
    "        deliveryReault.append(deliverySort[i])\n",
    "        indexResult.append(indexSort[i])\n",
    "print(deliveryReault)\n",
    "print(indexResult)"
   ]
  },
  {
   "cell_type": "code",
   "execution_count": 5,
   "metadata": {},
   "outputs": [
    {
     "name": "stdout",
     "output_type": "stream",
     "text": [
      "[1, 5] [0, 0] 0 5\n",
      "[2, 3] [1, 0] 1 8\n",
      "[3, 2] [1, 2] 3 10\n",
      "[4, 2] [1, 1] 4 12\n",
      "[5, 2] [0, 2] 7 14\n",
      "[8, 3] [2, 0] 9 17\n",
      "17\n"
     ]
    }
   ],
   "source": [
    "move = 0 # 전체 이동 거리\n",
    "result = deliveryReault[0][1]\n",
    "print(deliveryReault[0], indexSort[0], move, result)\n",
    "for i in range(1, len(deliveryReault)):\n",
    "    move += abs(indexResult[i - 1][0] - indexResult[i][0]) + abs(indexResult[i - 1][1] - indexResult[i][1])\n",
    "    result += deliveryReault[i][1]\n",
    "    print(deliveryReault[i], indexSort[i], move, result)\n",
    "    try:\n",
    "        if move > deliveryReault[i + 1][0]:\n",
    "            break\n",
    "    except:\n",
    "        break\n",
    "print(result)"
   ]
  },
  {
   "cell_type": "code",
   "execution_count": null,
   "metadata": {},
   "outputs": [],
   "source": []
  },
  {
   "cell_type": "code",
   "execution_count": null,
   "metadata": {},
   "outputs": [],
   "source": []
  }
 ],
 "metadata": {
  "kernelspec": {
   "display_name": "Python 3",
   "language": "python",
   "name": "python3"
  },
  "language_info": {
   "codemirror_mode": {
    "name": "ipython",
    "version": 3
   },
   "file_extension": ".py",
   "mimetype": "text/x-python",
   "name": "python",
   "nbconvert_exporter": "python",
   "pygments_lexer": "ipython3",
   "version": "3.6.8"
  }
 },
 "nbformat": 4,
 "nbformat_minor": 4
}
