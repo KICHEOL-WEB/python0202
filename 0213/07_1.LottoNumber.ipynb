{
 "cells": [
  {
   "cell_type": "code",
   "execution_count": 15,
   "metadata": {
    "scrolled": false
   },
   "outputs": [
    {
     "name": "stdout",
     "output_type": "stream",
     "text": [
      "1등 번호 : 17 18 12 14 44 38 뽀나스 : 28\n"
     ]
    }
   ],
   "source": [
    "import random\n",
    "import time\n",
    "\n",
    "# 추첨기를 준비한다. => 로또 추첨기로 사용할 빈 리스트를 선언한다.\n",
    "lotto = []\n",
    "\n",
    "# 추첨기에 1 ~ 45의 공(숫자)을 넣는다.\n",
    "for i in range(1, 46, 1):\n",
    "    # print(i, end = ' ')\n",
    "    lotto.append(i)\n",
    "# =======================\n",
    "# print(lotto)\n",
    "\n",
    "# 섞는다.\n",
    "# lotto[0]와 lotto[1] ~ lotto[44] 사이의 값 중에서 랜덤한 위치에 있는 값과 교환한다.\n",
    "for i in range(1000000):\n",
    "    r = random.randrange(1, 45)\n",
    "    lotto[0], lotto[r] = lotto[r], lotto[0]\n",
    "# ==========================================\n",
    "# print(lotto)\n",
    "\n",
    "# 1등 번호를 출력한다.\n",
    "print('1등 번호 : ', end = '')\n",
    "for i in range(6):\n",
    "    print('{0:02d} '.format(lotto[i]), end = '')\n",
    "    time.sleep(1)\n",
    "# =================================================\n",
    "print('뽀나스 : {0:02d}'.format(lotto[6]))"
   ]
  },
  {
   "cell_type": "code",
   "execution_count": null,
   "metadata": {},
   "outputs": [],
   "source": []
  },
  {
   "cell_type": "code",
   "execution_count": null,
   "metadata": {},
   "outputs": [],
   "source": []
  },
  {
   "cell_type": "code",
   "execution_count": null,
   "metadata": {},
   "outputs": [],
   "source": []
  },
  {
   "cell_type": "code",
   "execution_count": null,
   "metadata": {},
   "outputs": [],
   "source": []
  },
  {
   "cell_type": "code",
   "execution_count": null,
   "metadata": {},
   "outputs": [],
   "source": []
  }
 ],
 "metadata": {
  "kernelspec": {
   "display_name": "Python 3",
   "language": "python",
   "name": "python3"
  },
  "language_info": {
   "codemirror_mode": {
    "name": "ipython",
    "version": 3
   },
   "file_extension": ".py",
   "mimetype": "text/x-python",
   "name": "python",
   "nbconvert_exporter": "python",
   "pygments_lexer": "ipython3",
   "version": "3.6.8"
  }
 },
 "nbformat": 4,
 "nbformat_minor": 4
}
