{
 "cells": [
  {
   "cell_type": "markdown",
   "metadata": {},
   "source": [
    "리스트 메소드"
   ]
  },
  {
   "cell_type": "code",
   "execution_count": 2,
   "metadata": {},
   "outputs": [
    {
     "name": "stdout",
     "output_type": "stream",
     "text": [
      "[1, 2, 3]\n",
      "[1, 2, 3, 4]\n"
     ]
    }
   ],
   "source": [
    "# append(data) : 리스트의 맨 뒤에 data를 추가한다.\n",
    "a = [1, 2, 3]\n",
    "print(a)\n",
    "a.append(4)\n",
    "print(a)"
   ]
  },
  {
   "cell_type": "code",
   "execution_count": 11,
   "metadata": {},
   "outputs": [
    {
     "name": "stdout",
     "output_type": "stream",
     "text": [
      "[1, 2, 3, 4]\n",
      "[1, 5, 2, 3, 4]\n",
      "[1, 5, 2, 3, 4, 6]\n"
     ]
    }
   ],
   "source": [
    "# insert(index, data) : 리스트의 index 번째 위치에 data 삽입한다.\n",
    "# index 번째 위치의 데이터 부터 마지막 데이터 까지 자동으로 뒤로 이동된다.\n",
    "b = [1, 2, 3, 4]\n",
    "print(b)\n",
    "b.insert(1, 5)\n",
    "print(b)\n",
    "# insert()와 len()으로 append() 구현하기\n",
    "b.insert(len(b), 6)\n",
    "print(b)"
   ]
  },
  {
   "cell_type": "code",
   "execution_count": 19,
   "metadata": {},
   "outputs": [
    {
     "name": "stdout",
     "output_type": "stream",
     "text": [
      "[1, 5, 2, 3, 4, 6]\n",
      "[1, 2, 3, 4, 5, 6]\n",
      "['a', 'd', 'c', 'b']\n",
      "['a', 'b', 'c', 'd']\n",
      "['홍길동', '임꺽정', '장길산', '일지매']\n",
      "['일지매', '임꺽정', '장길산', '홍길동']\n",
      "[6, 5, 4, 3, 2, 1]\n",
      "['d', 'c', 'b', 'a']\n",
      "['홍길동', '장길산', '임꺽정', '일지매']\n"
     ]
    }
   ],
   "source": [
    "# sort() : 리스트에 저장된 데이터를 오름차순으로 정렬한다.\n",
    "c = [1, 5, 2, 3, 4, 6]\n",
    "print(c)\n",
    "c.sort()\n",
    "print(c)\n",
    "d = ['a', 'd', 'c', 'b']\n",
    "print(d)\n",
    "d.sort()\n",
    "print(d)\n",
    "e = ['홍길동', '임꺽정', '장길산', '일지매']\n",
    "print(e)\n",
    "e.sort()\n",
    "print(e)\n",
    "# sort() 메소드에 reverse = True 옵션을 지정하면 내림차순으로 정렬된다.\n",
    "c.sort(reverse = True)\n",
    "print(c)\n",
    "d.sort(reverse = True)\n",
    "print(d)\n",
    "e.sort(reverse = True)\n",
    "print(e)"
   ]
  },
  {
   "cell_type": "code",
   "execution_count": 23,
   "metadata": {},
   "outputs": [
    {
     "name": "stdout",
     "output_type": "stream",
     "text": [
      "[4, 1, 3, 2]\n",
      "[2, 3, 1, 4]\n",
      "[1, 2, 3, 4]\n",
      "[4, 3, 2, 1]\n"
     ]
    }
   ],
   "source": [
    "# reverse() : 리스트에 저장된 데이터를 뒤집는다.\n",
    "f = [4, 1, 3, 2]\n",
    "print(f)\n",
    "f.reverse()\n",
    "print(f)\n",
    "f.sort()\n",
    "print(f)\n",
    "f.reverse()\n",
    "print(f)"
   ]
  },
  {
   "cell_type": "code",
   "execution_count": 26,
   "metadata": {},
   "outputs": [
    {
     "name": "stdout",
     "output_type": "stream",
     "text": [
      "[1, 2, 3, 4, 3, 5, 3]\n",
      "2\n"
     ]
    },
    {
     "ename": "ValueError",
     "evalue": "6 is not in list",
     "output_type": "error",
     "traceback": [
      "\u001b[1;31m---------------------------------------------------------------------------\u001b[0m",
      "\u001b[1;31mValueError\u001b[0m                                Traceback (most recent call last)",
      "\u001b[1;32m<ipython-input-26-f25e2aa37042>\u001b[0m in \u001b[0;36m<module>\u001b[1;34m\u001b[0m\n\u001b[0;32m      4\u001b[0m \u001b[0mprint\u001b[0m\u001b[1;33m(\u001b[0m\u001b[0mg\u001b[0m\u001b[1;33m)\u001b[0m\u001b[1;33m\u001b[0m\u001b[1;33m\u001b[0m\u001b[0m\n\u001b[0;32m      5\u001b[0m \u001b[0mprint\u001b[0m\u001b[1;33m(\u001b[0m\u001b[0mg\u001b[0m\u001b[1;33m.\u001b[0m\u001b[0mindex\u001b[0m\u001b[1;33m(\u001b[0m\u001b[1;36m3\u001b[0m\u001b[1;33m)\u001b[0m\u001b[1;33m)\u001b[0m\u001b[1;33m\u001b[0m\u001b[1;33m\u001b[0m\u001b[0m\n\u001b[1;32m----> 6\u001b[1;33m \u001b[0mprint\u001b[0m\u001b[1;33m(\u001b[0m\u001b[0mg\u001b[0m\u001b[1;33m.\u001b[0m\u001b[0mindex\u001b[0m\u001b[1;33m(\u001b[0m\u001b[1;36m6\u001b[0m\u001b[1;33m)\u001b[0m\u001b[1;33m)\u001b[0m \u001b[1;31m# 리스트에 데이터가 없을 경우 에러가 발생된다.\u001b[0m\u001b[1;33m\u001b[0m\u001b[1;33m\u001b[0m\u001b[0m\n\u001b[0m",
      "\u001b[1;31mValueError\u001b[0m: 6 is not in list"
     ]
    }
   ],
   "source": [
    "# index() : 리스트에 저장된 데이터가 있을 경우 첫 번째 데이터의 위치를 얻어온다.\n",
    "# 실행 결과가 0 이상이면 리스트에 데이터가 포함되어 있다.\n",
    "g = [1, 2, 3, 4, 3, 5, 3]\n",
    "print(g)\n",
    "print(g.index(3))\n",
    "print(g.index(6)) # 리스트에 데이터가 없을 경우 에러가 발생된다."
   ]
  },
  {
   "cell_type": "code",
   "execution_count": 28,
   "metadata": {},
   "outputs": [
    {
     "name": "stdout",
     "output_type": "stream",
     "text": [
      "3\n",
      "0\n"
     ]
    }
   ],
   "source": [
    "# count() : 리스트에 저장된 특정 데이터의 개수를 얻어온다.\n",
    "# 실행 결과가 1 이상이면 리스트에 데이터가 포함되어 있다.\n",
    "h = [1, 2, 3, 4, 3, 5, 3]\n",
    "print(h.count(3))\n",
    "print(h.count(6))"
   ]
  },
  {
   "cell_type": "code",
   "execution_count": 33,
   "metadata": {},
   "outputs": [
    {
     "name": "stdout",
     "output_type": "stream",
     "text": [
      "[1, 2, 3, 4, 3, 5, 3]\n",
      "None [1, 2, 4, 3, 5, 3]\n"
     ]
    }
   ],
   "source": [
    "# remove(data) : 리스트의 데이터를 제거한다. => 첫 번째 데이터만 제거한다.\n",
    "i = [1, 2, 3, 4, 3, 5, 3]\n",
    "print(i)\n",
    "result = i.remove(3)\n",
    "print(result, i)"
   ]
  },
  {
   "cell_type": "code",
   "execution_count": 34,
   "metadata": {},
   "outputs": [
    {
     "name": "stdout",
     "output_type": "stream",
     "text": [
      "[1, 2, 3, 4, 3, 5, 3]\n",
      "3 [1, 2, 3, 4, 3, 5]\n",
      "3 [1, 2, 4, 3, 5]\n"
     ]
    }
   ],
   "source": [
    "# pop() : 리스트에 저장된 마지막 데이터를 얻어온 후 제거한다.\n",
    "j = [1, 2, 3, 4, 3, 5, 3]\n",
    "print(j)\n",
    "result = j.pop()\n",
    "print(result, j)\n",
    "# pop(index) : 리스트에 저장된 index 번째 데이터를 얻어온 후 제거한다.\n",
    "result = j.pop(2)\n",
    "print(result, j)"
   ]
  },
  {
   "cell_type": "code",
   "execution_count": 38,
   "metadata": {},
   "outputs": [
    {
     "name": "stdout",
     "output_type": "stream",
     "text": [
      "[1, 2, 3, 4, 5]\n",
      "[1, 2, 3, 4, 5, 4, 5]\n",
      "[1, 2, 3, 4, 5, 4, 5]\n"
     ]
    }
   ],
   "source": [
    "# extend() : 리스트를 확장한다. => '+' 연산이 실행된다.\n",
    "k = [1, 2, 3]\n",
    "k.extend([4, 5])\n",
    "print(k)\n",
    "print(k + [4, 5])\n",
    "# 대입연산자 : +=, -=, *=, /=, %=, ...\n",
    "k += [4, 5] # k = k + [4, 5]와 같은 의미로 사용된다.\n",
    "print(k)"
   ]
  },
  {
   "cell_type": "code",
   "execution_count": null,
   "metadata": {},
   "outputs": [],
   "source": [
    "# 연산자 우선순위  \n",
    "# () => 단항 연산자 => 이항 연산자 => 삼항 연산자 => 대입 연산자  \n",
    "# 이항 연산자의 우선순위  \n",
    "# **(거듭제곱) => *, /, //, % => +, - => 관계 연산자(>, >=, <, <=, ==. !=) => 논리 연산자(and, or)"
   ]
  },
  {
   "cell_type": "code",
   "execution_count": null,
   "metadata": {},
   "outputs": [],
   "source": []
  },
  {
   "cell_type": "code",
   "execution_count": null,
   "metadata": {},
   "outputs": [],
   "source": []
  },
  {
   "cell_type": "code",
   "execution_count": null,
   "metadata": {},
   "outputs": [],
   "source": []
  },
  {
   "cell_type": "code",
   "execution_count": null,
   "metadata": {},
   "outputs": [],
   "source": []
  }
 ],
 "metadata": {
  "kernelspec": {
   "display_name": "Python 3",
   "language": "python",
   "name": "python3"
  },
  "language_info": {
   "codemirror_mode": {
    "name": "ipython",
    "version": 3
   },
   "file_extension": ".py",
   "mimetype": "text/x-python",
   "name": "python",
   "nbconvert_exporter": "python",
   "pygments_lexer": "ipython3",
   "version": "3.6.8"
  }
 },
 "nbformat": 4,
 "nbformat_minor": 4
}
