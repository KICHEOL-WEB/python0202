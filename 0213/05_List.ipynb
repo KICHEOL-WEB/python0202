{
 "cells": [
  {
   "cell_type": "markdown",
   "metadata": {},
   "source": [
    "리스트 만들기  \n",
    "리스트를 만들 때는 데이터를 []로 감싸주로 각각의 데이터는 ','로 구분한다."
   ]
  },
  {
   "cell_type": "code",
   "execution_count": 2,
   "metadata": {},
   "outputs": [
    {
     "name": "stdout",
     "output_type": "stream",
     "text": [
      "[1, 3, 5, 7, 9]\n",
      "<class 'list'>\n"
     ]
    }
   ],
   "source": [
    "odd = [1, 3, 5, 7, 9]\n",
    "print(odd)\n",
    "print(type(odd))"
   ]
  },
  {
   "cell_type": "code",
   "execution_count": 4,
   "metadata": {},
   "outputs": [
    {
     "name": "stdout",
     "output_type": "stream",
     "text": [
      "<class 'list'>\n",
      "<class 'list'>\n"
     ]
    }
   ],
   "source": [
    "# 빈 리스트 만들기\n",
    "a = []\n",
    "print(type(a))\n",
    "# 빈 리스트는 생성자 함수를 이용해서도 만들 수 있다.\n",
    "b = list()\n",
    "print(type(b))"
   ]
  },
  {
   "cell_type": "code",
   "execution_count": 8,
   "metadata": {},
   "outputs": [
    {
     "name": "stdout",
     "output_type": "stream",
     "text": [
      "[1, 2, 'A', 'B']\n"
     ]
    }
   ],
   "source": [
    "c = [1, 2, 3] # 숫자 리스트\n",
    "d = ['A', 'B', 'C', 'D'] # 문자 리스트\n",
    "e = [1, 2, 'A', 'B'] # 숫자와 문자가 혼용된 리스트\n",
    "print(e)\n",
    "f = [1, 2, ['A', 'B']] # 리스트의 데이터 요소로 리스트를 가지는 리스트\n",
    "g = [['A', 'B'], ['C', 'D']] # 2행 2열인 2차원 리스트"
   ]
  },
  {
   "cell_type": "markdown",
   "metadata": {},
   "source": [
    "리스트 인덱싱"
   ]
  },
  {
   "cell_type": "code",
   "execution_count": 15,
   "metadata": {},
   "outputs": [
    {
     "name": "stdout",
     "output_type": "stream",
     "text": [
      "[10, 20, 30, 40, 50]\n",
      "10\n",
      "40\n",
      "50\n",
      "5\n"
     ]
    }
   ],
   "source": [
    "a = [10, 20, 30, 40, 50]\n",
    "print(a)\n",
    "print(a[0])\n",
    "print(a[0] + a[2])\n",
    "print(a[-1])\n",
    "print(len(a))"
   ]
  },
  {
   "cell_type": "code",
   "execution_count": 20,
   "metadata": {},
   "outputs": [
    {
     "name": "stdout",
     "output_type": "stream",
     "text": [
      "[10, 20, 30, ['a', 'b', 'c']]\n",
      "10\n",
      "['a', 'b', 'c']\n",
      "['a', 'b', 'c']\n",
      "a\n"
     ]
    }
   ],
   "source": [
    "b = [10, 20, 30, ['a', 'b', 'c']]\n",
    "print(b)\n",
    "print(b[0])\n",
    "print(b[3])\n",
    "print(b[-1])\n",
    "print(b[3][0])"
   ]
  },
  {
   "cell_type": "code",
   "execution_count": 27,
   "metadata": {},
   "outputs": [
    {
     "name": "stdout",
     "output_type": "stream",
     "text": [
      "[10, 20, ['a', 'b', ['life', 'is']]]\n",
      "10\n",
      "['a', 'b', ['life', 'is']]\n",
      "a\n",
      "['life', 'is']\n",
      "is\n"
     ]
    }
   ],
   "source": [
    "c = [10, 20, ['a', 'b', ['life', 'is']]]\n",
    "print(c)\n",
    "print(c[0])\n",
    "print(c[2])\n",
    "print(c[2][0])\n",
    "print(c[2][2])\n",
    "print(c[2][2][1])"
   ]
  },
  {
   "cell_type": "markdown",
   "metadata": {},
   "source": [
    "리스트 슬라이싱  \n",
    "리스트에서 인덱싱으로 뽑아내면 상수가 리턴되고 슬라이싱으로 뽑아내면 리스트가 리턴된다."
   ]
  },
  {
   "cell_type": "code",
   "execution_count": 34,
   "metadata": {},
   "outputs": [
    {
     "name": "stdout",
     "output_type": "stream",
     "text": [
      "10\n",
      "<class 'int'>\n",
      "[10]\n",
      "<class 'list'>\n",
      "[10, 20, 30]\n",
      "[40, 50]\n"
     ]
    }
   ],
   "source": [
    "d = [10, 20, 30, 40, 50]\n",
    "print(d[0])\n",
    "print(type(d[0]))\n",
    "print(d[0:1])\n",
    "print(type(d[0:1]))\n",
    "print(d[:3])\n",
    "print(d[3:])"
   ]
  },
  {
   "cell_type": "markdown",
   "metadata": {},
   "source": [
    "리스트 연산자"
   ]
  },
  {
   "cell_type": "code",
   "execution_count": 36,
   "metadata": {},
   "outputs": [
    {
     "name": "stdout",
     "output_type": "stream",
     "text": [
      "[1, 2, 3, 4, 5, 6, 7]\n",
      "[1, 2, 3, 1, 2, 3, 1, 2, 3]\n"
     ]
    }
   ],
   "source": [
    "# '+'는 두 개의 리스트를 연결하고 '*'는 리스트를 반복한다.\n",
    "e = [1, 2, 3]\n",
    "f = [4, 5, 6, 7]\n",
    "print(e + f)\n",
    "print(e * 3)"
   ]
  },
  {
   "cell_type": "markdown",
   "metadata": {},
   "source": [
    "리스트의 수정 및 삭제"
   ]
  },
  {
   "cell_type": "code",
   "execution_count": 44,
   "metadata": {},
   "outputs": [
    {
     "name": "stdout",
     "output_type": "stream",
     "text": [
      "[1, 2, 3]\n",
      "[1, 4, 3]\n",
      "[1, 'a', 'b', 'c', 3]\n",
      "[1, 'a', ['f', 'e', 'f'], 'c', 3]\n",
      "[1, ['f', 'e', 'f'], 'c', 3]\n",
      "[1, 3]\n"
     ]
    }
   ],
   "source": [
    "# 리스트를 인덱싱을 사용해 수정하려면 상수를 넣어줘야 하고 슬라이싱을 사용해 수정하려면 리스트를\n",
    "# 넣어줘야 한다.\n",
    "a = [1, 2, 3]\n",
    "print(a)\n",
    "a[1] = 4\n",
    "print(a)\n",
    "a[1:2] = ['a', 'b', 'c']\n",
    "print(a)\n",
    "# 리스트를 인덱싱을 사용해 수정할 때 상수가 아닌 리스트를 넣어주면 리스트 자체로 수정된다.\n",
    "a[2] = ['f', 'e', 'f']\n",
    "print(a)\n",
    "# 인덱싱 방식은 del 명령으로 삭제한다.\n",
    "del a[1]\n",
    "print(a)\n",
    "# 슬라이싱 방식은 빈 리스트를 넣어주면 된다.\n",
    "a[1:3] = []\n",
    "print(a)"
   ]
  },
  {
   "cell_type": "code",
   "execution_count": null,
   "metadata": {},
   "outputs": [],
   "source": []
  },
  {
   "cell_type": "code",
   "execution_count": null,
   "metadata": {},
   "outputs": [],
   "source": []
  },
  {
   "cell_type": "code",
   "execution_count": null,
   "metadata": {},
   "outputs": [],
   "source": []
  },
  {
   "cell_type": "code",
   "execution_count": null,
   "metadata": {},
   "outputs": [],
   "source": []
  },
  {
   "cell_type": "code",
   "execution_count": null,
   "metadata": {},
   "outputs": [],
   "source": []
  },
  {
   "cell_type": "code",
   "execution_count": null,
   "metadata": {},
   "outputs": [],
   "source": []
  },
  {
   "cell_type": "code",
   "execution_count": null,
   "metadata": {},
   "outputs": [],
   "source": []
  }
 ],
 "metadata": {
  "kernelspec": {
   "display_name": "Python 3",
   "language": "python",
   "name": "python3"
  },
  "language_info": {
   "codemirror_mode": {
    "name": "ipython",
    "version": 3
   },
   "file_extension": ".py",
   "mimetype": "text/x-python",
   "name": "python",
   "nbconvert_exporter": "python",
   "pygments_lexer": "ipython3",
   "version": "3.6.8"
  }
 },
 "nbformat": 4,
 "nbformat_minor": 4
}
