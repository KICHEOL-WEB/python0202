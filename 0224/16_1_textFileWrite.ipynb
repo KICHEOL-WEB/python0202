{
 "cells": [
  {
   "cell_type": "markdown",
   "metadata": {},
   "source": [
    "텍스트 파일에 쓰기  "
   ]
  },
  {
   "cell_type": "code",
   "execution_count": 3,
   "metadata": {},
   "outputs": [],
   "source": [
    "# 텍스트 파일 열기\n",
    "# 파일변수 = open('텍스트 파일 이름', '파일 열기 모드')\n",
    "# 파일 열기 모드 => r(read, 읽기 전용), w(write, 쓰기 전용), a(append, 쓰기, 기존 파일에 추가)\n",
    "# 파일 열기 모드 w는 파일이 없으면 파일을 만든 후 저장하고 파일이 있으면 파일의 내용을 지우고 다시\n",
    "# 저장한다. => 덮어쓰기\n",
    "# 파일 열기 모드 a는 파일이 없으면 파일을 만든 후 저장하고 파일이 있으면 파일 끝에 데이터를 \n",
    "# 추가하고 저장한다. => 데이터 추가\n",
    "# w, a 모드는 파일을 열어서 작업한 후 반드시 파일을 닫아야 데이터가 정상적으로 저장된다."
   ]
  },
  {
   "cell_type": "code",
   "execution_count": 4,
   "metadata": {},
   "outputs": [],
   "source": [
    "# 파이썬을 이용해서 텍스트 파일 처리를 할 경우에 아래의 사항을 설정한다.\n",
    "# 윈도우 탐색기 => 보기 메뉴 => 옵션 => 폴더 및 검색 옵션 변경\n",
    "# 폴더 옵션 대화상자의 보기 탭 => 고급 설정 => 알려진 파일 형식의 확장면 숨기기 체크 해제"
   ]
  },
  {
   "cell_type": "code",
   "execution_count": 9,
   "metadata": {},
   "outputs": [
    {
     "name": "stdout",
     "output_type": "stream",
     "text": [
      "파일로 쓰기 완료\n"
     ]
    }
   ],
   "source": [
    "# open 함수에 텍스트 파일의 이름만 적으면 현재 작업중인 파이썬 파일이 위치한 경로를 의미한다.\n",
    "file = open('data.txt', 'w')\n",
    "for i in range(1, 11):\n",
    "    # 화면에 출력할 때는 print() 함수를 사용했지만 파일로 출력할 때는 write() 함수를 사용한다.\n",
    "    # str() 함수는 인수로 지정된 숫자를 문자열로 변환한다.\n",
    "    # \\n => new line, 줄을 바꾼다. => 자바는 '\\n' 사용하면 시스템적으로는 줄이 변경된것으로 처리\n",
    "    # 되지만 파일을 열었을 때 줄이 변경되서 보이지 않는다. => 자바는 '\\r\\n'을 붙여준다.\n",
    "    file.write(str(i) + '\\n')\n",
    "file.close()\n",
    "print('파일로 쓰기 완료')"
   ]
  },
  {
   "cell_type": "code",
   "execution_count": 12,
   "metadata": {},
   "outputs": [
    {
     "name": "stdout",
     "output_type": "stream",
     "text": [
      ">>> 홍길동\n",
      ">>>                       \n",
      ">>> 임꺽정\n",
      ">>> quit\n",
      "파일로 쓰기 완료\n"
     ]
    }
   ],
   "source": [
    "# 키보드로 입력하는 문자열을 텍스트 파일로 저장하기 => 'quit'가 입력되면 저장을 종료한다.\n",
    "# 'quit'는 대문자로 입력되나 소문자로 입력되나 구별하지 말고 종료가 되야한다.\n",
    "file = open('data.txt', 'w')\n",
    "while True:\n",
    "    string = input('>>> ').strip()\n",
    "    # 'quit'가 입력되면 무한 루프를 탈출한다.\n",
    "    if string.lower() == 'quit':\n",
    "        break;\n",
    "    if len(string) != 0:\n",
    "        file.write(string + '\\n')\n",
    "file.close()\n",
    "print('파일로 쓰기 완료')"
   ]
  },
  {
   "cell_type": "code",
   "execution_count": null,
   "metadata": {},
   "outputs": [],
   "source": [
    "# 파일의 위치를 지정하는 방법인 경로 지정방식은 절대경로 지정방식과 상대경로 지정방식이 있다.\n",
    "# 절대 경로는 파일이 저장된 디스크의 최상위 디렉토리(폴더, root) 부터 파일이 위치한 디렉토리 까지의\n",
    "# 경로를 의미하며 상대 경로는 현재 작업중인 파이썬 프로그램이 위치한 디렉토리 부터 파일의 위치한\n",
    "# 디렉토리 까지의 경로를 의미한다."
   ]
  },
  {
   "cell_type": "code",
   "execution_count": 23,
   "metadata": {},
   "outputs": [
    {
     "name": "stdout",
     "output_type": "stream",
     "text": [
      ">>> 홍길동\n",
      ">>> 임꺽정\n",
      ">>> 장길산\n",
      ">>> 일지매\n",
      ">>> quit\n",
      "파일로 쓰기 완료\n"
     ]
    }
   ],
   "source": [
    "# 경로를 복사해 넣으면 이클립스는 자동으로 '\\'를 '\\\\'로 바꿔주고 비쥬얼 스튜디오는 '\\'만 입력되도\n",
    "# '\\\\'가 입력된 것으로 취급해준다.\n",
    "\n",
    "# 쥬피터 노트북에서 경로 지정시 디렉토리와 디렉토리 또는 디렉토리와 파일을 구분하는 '\\'를 '\\\\'로\n",
    "# 수정해야 한다.\n",
    "# filePath = 'D:\\\\python2002pm\\\\workspace\\\\data\\\\data.txt' # 절대경로\n",
    "# '\\\\'를 '/'로 대체시켜 사용할 수 있다.\n",
    "# filePath = 'D:/python2002pm/workspace/data/data.txt' # 절대경로\n",
    "\n",
    "# 절대경로를 사용하면 데이터 파일이 이동식 메모리에 있을 경우 컴퓨터에 메모리 장치를 장착할 때 마다\n",
    "# 드라이브가 바뀌기 때문에 매번 경로를 수정해야 하는 번거로움이 발생한다.\n",
    "\n",
    "# 상대경로를 지정하면 컴퓨터가 변경되도 매번 경로를 수정하는 번거로움이 사라진다.\n",
    "# . => 현재 디렉토리(현재 화면에 작업중인 파이썬 소스 파일이 저장된 디렉토리)\n",
    "# .. => 1단계 상위 디렉토리\n",
    "# 현재 폴더 아래의 data 폴더에 data.txt 파일로 저장한다.\n",
    "# filePath = './data/data.txt' # 상대경로\n",
    "# 현재 폴더의 한 단계 상위 폴더 아래의 data 폴더에 data.txt 파일로 저장한다.\n",
    "filePath = '../data/data.txt' # 상대경로현재 폴더 상위 폴더 아래의 data 폴더에 data.txt 파일로 저장\n",
    "\n",
    "file = open(filePath, 'w')\n",
    "while True:\n",
    "    string = input('>>> ').strip()\n",
    "    if string.lower() == 'quit':\n",
    "        break;\n",
    "    if len(string) != 0:\n",
    "        file.write(string + '\\n')\n",
    "file.close()\n",
    "print('파일로 쓰기 완료')"
   ]
  },
  {
   "cell_type": "markdown",
   "metadata": {},
   "source": [
    "파일에 데이터 추가하기"
   ]
  },
  {
   "cell_type": "code",
   "execution_count": 21,
   "metadata": {},
   "outputs": [
    {
     "name": "stdout",
     "output_type": "stream",
     "text": [
      ">>> 홍길동\n",
      ">>> 임꺽정\n",
      ">>> quit\n",
      "파일로 쓰기 완료\n"
     ]
    }
   ],
   "source": [
    "filePath = '../data/data.txt'\n",
    "file = open(filePath, 'a')\n",
    "while True:\n",
    "    string = input('>>> ').strip()\n",
    "    if string.lower() == 'quit':\n",
    "        break;\n",
    "    if len(string) != 0:\n",
    "        file.write(string + '\\n')\n",
    "file.write('*' * 50 + '\\n')\n",
    "file.close()\n",
    "print('파일로 쓰기 완료')"
   ]
  },
  {
   "cell_type": "code",
   "execution_count": null,
   "metadata": {},
   "outputs": [],
   "source": []
  },
  {
   "cell_type": "code",
   "execution_count": null,
   "metadata": {},
   "outputs": [],
   "source": []
  }
 ],
 "metadata": {
  "kernelspec": {
   "display_name": "Python 3",
   "language": "python",
   "name": "python3"
  },
  "language_info": {
   "codemirror_mode": {
    "name": "ipython",
    "version": 3
   },
   "file_extension": ".py",
   "mimetype": "text/x-python",
   "name": "python",
   "nbconvert_exporter": "python",
   "pygments_lexer": "ipython3",
   "version": "3.6.8"
  }
 },
 "nbformat": 4,
 "nbformat_minor": 4
}
