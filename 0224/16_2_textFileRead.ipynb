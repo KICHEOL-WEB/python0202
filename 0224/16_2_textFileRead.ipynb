{
 "cells": [
  {
   "cell_type": "markdown",
   "metadata": {},
   "source": [
    "readline() 함수로 텍스트 파일에서 읽기"
   ]
  },
  {
   "cell_type": "code",
   "execution_count": 12,
   "metadata": {},
   "outputs": [
    {
     "name": "stdout",
     "output_type": "stream",
     "text": [
      "홍길동\n",
      "임꺽정\n",
      "장길산\n",
      "일지매\n",
      "['홍길동\\n', '임꺽정\\n', '장길산\\n', '일지매\\n']\n"
     ]
    }
   ],
   "source": [
    "filePath = '../data/data.txt'\n",
    "# 'w', 'a' 모드는 파일이 없으면 파일을 만들고 출력하지만 'r' 모드는 파일이 없으면 에러가 발생된다.\n",
    "file = open(filePath, 'r') # 텍스트 파일을 읽기용으로 연다.\n",
    "# 읽어들일 데이터가 몇 줄인지 모르기 때문에 무한 루프를 돌린다.\n",
    "lines = []\n",
    "while True:\n",
    "    # readline() : 텍스트 파일의 데이터를 한 줄씩 읽는다.\n",
    "    # 텍스트 파일에서 한 줄의 데이터를 읽어 변수에 저장시킨다.\n",
    "    line = file.readline()\n",
    "    # 파일에서 읽어들인 데이터가 없으면 무한 루프를 탈출시킨다.\n",
    "    if not line: # 읽어들인 데이터가 없는가?\n",
    "        break;\n",
    "    '''    \n",
    "    if len(line.strip()) != 0:\n",
    "        print(line.strip())\n",
    "    '''\n",
    "    if line.strip() != '':\n",
    "        print(line, end = '')\n",
    "        lines.append(line.strip())\n",
    "# 입력 파일은 출력 파일과 다르게 close를 하지 않아도 에러가 발생되지 않는다.\n",
    "file.close()\n",
    "print(lines)"
   ]
  },
  {
   "cell_type": "code",
   "execution_count": null,
   "metadata": {},
   "outputs": [],
   "source": []
  }
 ],
 "metadata": {
  "kernelspec": {
   "display_name": "Python 3",
   "language": "python",
   "name": "python3"
  },
  "language_info": {
   "codemirror_mode": {
    "name": "ipython",
    "version": 3
   },
   "file_extension": ".py",
   "mimetype": "text/x-python",
   "name": "python",
   "nbconvert_exporter": "python",
   "pygments_lexer": "ipython3",
   "version": "3.6.8"
  }
 },
 "nbformat": 4,
 "nbformat_minor": 4
}
