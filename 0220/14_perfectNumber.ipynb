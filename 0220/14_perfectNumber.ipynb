{
 "cells": [
  {
   "cell_type": "markdown",
   "metadata": {},
   "source": [
    "4 ~ 1000 사이의 완전수를 구해서 완전수와 완전수의 개수를 출력하는 프로그램  \n",
    "완전수란 자기 자신을 제외한 약수의 합이 자신과 같은 숫자를 말한다.  \n",
    "6의 약수는 1, 2, 3, 6 이고 자기 자신인 6을 제외한 나머지 약수 1, 2, 3의 합계가 자기 자신인 6이 되므로 6은 완전수이다."
   ]
  },
  {
   "cell_type": "code",
   "execution_count": 8,
   "metadata": {},
   "outputs": [
    {
     "name": "stdout",
     "output_type": "stream",
     "text": [
      "1번째 완전수는 6 입니다.\n",
      "2번째 완전수는 28 입니다.\n",
      "3번째 완전수는 496 입니다.\n",
      "4번째 완전수는 8128 입니다.\n",
      "4 ~ 10000 사이의 완전수는 4개 입니다.\n"
     ]
    }
   ],
   "source": [
    "count = 0 # 완전수의 개수를 기억할 변수\n",
    "# 4 ~ 1000 사이를 i 값이 1씩 증가하며 반복한다. => i가 완전수인가 판별할 수\n",
    "for i in range(1, 10001):\n",
    "    # 어떤 숫자를 나눠서 떨어뜨릴수 있는 가장 큰수는 자기 자신을 제외하면 자신의 절반을 넘지 \n",
    "    # 않는다.\n",
    "    k = i // 2 # i를 2로 나눈 몫\n",
    "    # i를 1 부터 i의 절반(k) 까지 나누면서 떨어질 때가 약수이므로 약수의 합계를 계산한다.\n",
    "    # for 내부에 또 for가 나와야 할 경우 반복에 사용하는 변수 이름은 반드시 달라야 한다.\n",
    "    total = 0 # 약수의 합계를 기억할 변수\n",
    "    for j in range(1, k + 1):\n",
    "        if i % j == 0: # j가 i의 약수인가?\n",
    "            total += j # j가 i의 약수이므로 약수의 합계를 계산한다.\n",
    "    #========================\n",
    "    # 완전수인가 판단한다.\n",
    "    if i == total: # i가 완전수인가?\n",
    "        count += 1 # 완전수의 개수를 1증가 시킨다.\n",
    "        print('{}번째 완전수는 {} 입니다.'.format(count, i))\n",
    "# ===============================================================\n",
    "print('4 ~ 10000 사이의 완전수는 {}개 입니다.'.format(count))"
   ]
  },
  {
   "cell_type": "code",
   "execution_count": null,
   "metadata": {},
   "outputs": [],
   "source": []
  },
  {
   "cell_type": "code",
   "execution_count": null,
   "metadata": {},
   "outputs": [],
   "source": []
  },
  {
   "cell_type": "code",
   "execution_count": null,
   "metadata": {},
   "outputs": [],
   "source": []
  }
 ],
 "metadata": {
  "kernelspec": {
   "display_name": "Python 3",
   "language": "python",
   "name": "python3"
  },
  "language_info": {
   "codemirror_mode": {
    "name": "ipython",
    "version": 3
   },
   "file_extension": ".py",
   "mimetype": "text/x-python",
   "name": "python",
   "nbconvert_exporter": "python",
   "pygments_lexer": "ipython3",
   "version": "3.6.8"
  }
 },
 "nbformat": 4,
 "nbformat_minor": 4
}
