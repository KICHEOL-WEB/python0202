{
 "cells": [
  {
   "cell_type": "markdown",
   "metadata": {},
   "source": [
    "for 명령은 반복 횟수가 몇 번인지 알 경우 사용한다.  \n",
    "\n",
    "숫자 리스트를 만들어주는 함수은 range() 함수와 같이 사용하는 for  \n",
    "for 변수 in range([초기치,] 최종치 [, 증가치]):  \n",
    "&nbsp;&nbsp;&nbsp;&nbsp;반복할 문장  \n",
    "&nbsp;&nbsp;&nbsp;&nbsp;..."
   ]
  },
  {
   "cell_type": "markdown",
   "metadata": {},
   "source": [
    "range([초기치,] 최종치 [, 증가치])  \n",
    "변수 값이 초기치 부터 증가치 만큼 증가하며 최종치 - 1 까지 반복한다.  \n",
    "초기치와 증가치는 생략할 수 있으며 초기치가 생략되면 0, 증가치가 생략되면 1이 기본값으로 사용된다.  \n",
    "range(0, 10, 1)은 range(10)과 같다."
   ]
  },
  {
   "cell_type": "code",
   "execution_count": 1,
   "metadata": {},
   "outputs": [
    {
     "name": "stdout",
     "output_type": "stream",
     "text": [
      "0 1 2 3 4 5 6 7 8 9 "
     ]
    }
   ],
   "source": [
    "for i in range(0, 10, 1):\n",
    "    print(i, end = ' ')"
   ]
  },
  {
   "cell_type": "code",
   "execution_count": 2,
   "metadata": {},
   "outputs": [
    {
     "name": "stdout",
     "output_type": "stream",
     "text": [
      "0 1 2 3 4 5 6 7 8 9 "
     ]
    }
   ],
   "source": [
    "for i in range(10):\n",
    "    print(i, end = ' ')"
   ]
  },
  {
   "cell_type": "code",
   "execution_count": 3,
   "metadata": {},
   "outputs": [
    {
     "name": "stdout",
     "output_type": "stream",
     "text": [
      "1 3 5 7 9 "
     ]
    }
   ],
   "source": [
    "for i in range(1, 10, 2):\n",
    "    print(i, end = ' ')"
   ]
  },
  {
   "cell_type": "code",
   "execution_count": 4,
   "metadata": {},
   "outputs": [
    {
     "name": "stdout",
     "output_type": "stream",
     "text": [
      "2 4 6 8 10 "
     ]
    }
   ],
   "source": [
    "for i in range(2, 11, 2):\n",
    "    print(i, end = ' ')"
   ]
  },
  {
   "cell_type": "code",
   "execution_count": 5,
   "metadata": {},
   "outputs": [
    {
     "name": "stdout",
     "output_type": "stream",
     "text": [
      "10 9 8 7 6 5 4 3 2 1 "
     ]
    }
   ],
   "source": [
    "for i in range(10, 0, -1):\n",
    "    print(i, end = ' ')"
   ]
  },
  {
   "cell_type": "code",
   "execution_count": 6,
   "metadata": {},
   "outputs": [
    {
     "name": "stdout",
     "output_type": "stream",
     "text": [
      "1 ~ 100의 합계 : 5050\n"
     ]
    }
   ],
   "source": [
    "total = 0\n",
    "for i in range(1, 101):\n",
    "    total += i\n",
    "print('1 ~ 100의 합계 : {}'.format(total))"
   ]
  },
  {
   "cell_type": "markdown",
   "metadata": {},
   "source": [
    "주사위를 10번 굴렸을 때 발생되는 각각의 눈의 개수를 계산한다. - 변수 사용"
   ]
  },
  {
   "cell_type": "code",
   "execution_count": 9,
   "metadata": {},
   "outputs": [
    {
     "name": "stdout",
     "output_type": "stream",
     "text": [
      " 1번째 주사위가 데구르르~~~~~ 굴러서 4가 나왔습니다.\n",
      " 2번째 주사위가 데구르르~~~~~ 굴러서 1가 나왔습니다.\n",
      " 3번째 주사위가 데구르르~~~~~ 굴러서 1가 나왔습니다.\n",
      " 4번째 주사위가 데구르르~~~~~ 굴러서 5가 나왔습니다.\n",
      " 5번째 주사위가 데구르르~~~~~ 굴러서 2가 나왔습니다.\n",
      " 6번째 주사위가 데구르르~~~~~ 굴러서 5가 나왔습니다.\n",
      " 7번째 주사위가 데구르르~~~~~ 굴러서 6가 나왔습니다.\n",
      " 8번째 주사위가 데구르르~~~~~ 굴러서 1가 나왔습니다.\n",
      " 9번째 주사위가 데구르르~~~~~ 굴러서 5가 나왔습니다.\n",
      "10번째 주사위가 데구르르~~~~~ 굴러서 6가 나왔습니다.\n",
      "1의 개수 : 3개\n",
      "2의 개수 : 1개\n",
      "3의 개수 : 0개\n",
      "4의 개수 : 1개\n",
      "5의 개수 : 3개\n",
      "6의 개수 : 2개\n"
     ]
    }
   ],
   "source": [
    "import random as r\n",
    "# 1 ~ 6 사이의 숫자를 기억할 변수를 선언한다.\n",
    "a = 0; b = 0; c = 0; d = 0; e = 0; f = 0\n",
    "# 주사위를 10번 굴린다.\n",
    "for i in range(10):\n",
    "    j = r.randrange(1, 7) # 랜덤하게 주사위의 눈을 발생시킨다.\n",
    "    print('{0:2d}번째 주사위가 데구르르~~~~~ 굴러서 {1}가 나왔습니다.'.format(i + 1, j))\n",
    "    # 주사위 눈의 개수를 센다.\n",
    "    if j == 1:\n",
    "        a += 1\n",
    "    elif j == 2:\n",
    "        b += 1\n",
    "    elif j == 3:\n",
    "        c += 1\n",
    "    elif j == 4:\n",
    "        d += 1\n",
    "    elif j == 5:\n",
    "        e += 1\n",
    "    else:\n",
    "        f += 1\n",
    "\n",
    "# 주사위 눈의 개수를 출력한다.\n",
    "print('1의 개수 : {}개'.format(a))\n",
    "print('2의 개수 : {}개'.format(b))\n",
    "print('3의 개수 : {}개'.format(c))\n",
    "print('4의 개수 : {}개'.format(d))\n",
    "print('5의 개수 : {}개'.format(e))\n",
    "print('6의 개수 : {}개'.format(f))"
   ]
  },
  {
   "cell_type": "markdown",
   "metadata": {},
   "source": [
    "주사위를 10번 굴렸을 때 발생되는 각각의 눈의 개수를 계산한다. - 리스트 사용"
   ]
  },
  {
   "cell_type": "code",
   "execution_count": 18,
   "metadata": {},
   "outputs": [
    {
     "name": "stdout",
     "output_type": "stream",
     "text": [
      " 1번째 주사위가 데구르르~~~~~ 굴러서 1가 나왔습니다.\n",
      " 2번째 주사위가 데구르르~~~~~ 굴러서 5가 나왔습니다.\n",
      " 3번째 주사위가 데구르르~~~~~ 굴러서 6가 나왔습니다.\n",
      " 4번째 주사위가 데구르르~~~~~ 굴러서 6가 나왔습니다.\n",
      " 5번째 주사위가 데구르르~~~~~ 굴러서 5가 나왔습니다.\n",
      " 6번째 주사위가 데구르르~~~~~ 굴러서 4가 나왔습니다.\n",
      " 7번째 주사위가 데구르르~~~~~ 굴러서 1가 나왔습니다.\n",
      " 8번째 주사위가 데구르르~~~~~ 굴러서 4가 나왔습니다.\n",
      " 9번째 주사위가 데구르르~~~~~ 굴러서 3가 나왔습니다.\n",
      "10번째 주사위가 데구르르~~~~~ 굴러서 5가 나왔습니다.\n",
      "1의 개수 : 2개\n",
      "2의 개수 : 0개\n",
      "3의 개수 : 1개\n",
      "4의 개수 : 2개\n",
      "5의 개수 : 3개\n",
      "6의 개수 : 2개\n"
     ]
    }
   ],
   "source": [
    "import random as r\n",
    "# 1 ~ 6 사이의 숫자를 기억할 0으로 초기화된 리스트를 선언한다.\n",
    "# count = [0, 0, 0, 0, 0, 0]\n",
    "# 빈 리스트를 선언하고 0을 6개 추가한다.\n",
    "# count = []\n",
    "# for i in range(6):\n",
    "    # count.append(0)\n",
    "# 0이 6번 반복되는 리스트를 만든다.\n",
    "count = [0 for i in range(6)]\n",
    "# print(count)\n",
    "\n",
    "for i in range(10):\n",
    "    j = r.randrange(1, 7)\n",
    "    print('{0:2d}번째 주사위가 데구르르~~~~~ 굴러서 {1}가 나왔습니다.'.format(i + 1, j))\n",
    "    if j == 1:\n",
    "        count[0] += 1 # a += 1\n",
    "    elif j == 2:\n",
    "        count[1] += 1 # b += 1\n",
    "    elif j == 3:\n",
    "        count[2] += 1 # c += 1\n",
    "    elif j == 4:\n",
    "        count[3] += 1 # d += 1\n",
    "    elif j == 5:\n",
    "        count[4] += 1 # e += 1\n",
    "    else:\n",
    "        count[5] += 1 # f += 1\n",
    "print('1의 개수 : {}개'.format(count[0]))\n",
    "print('2의 개수 : {}개'.format(count[1]))\n",
    "print('3의 개수 : {}개'.format(count[2]))\n",
    "print('4의 개수 : {}개'.format(count[3]))\n",
    "print('5의 개수 : {}개'.format(count[4]))\n",
    "print('6의 개수 : {}개'.format(count[5]))"
   ]
  },
  {
   "cell_type": "code",
   "execution_count": 21,
   "metadata": {},
   "outputs": [
    {
     "name": "stdout",
     "output_type": "stream",
     "text": [
      " 1번째 주사위가 데구르르~~~~~ 굴러서 6가 나왔습니다.\n",
      " 2번째 주사위가 데구르르~~~~~ 굴러서 3가 나왔습니다.\n",
      " 3번째 주사위가 데구르르~~~~~ 굴러서 4가 나왔습니다.\n",
      " 4번째 주사위가 데구르르~~~~~ 굴러서 6가 나왔습니다.\n",
      " 5번째 주사위가 데구르르~~~~~ 굴러서 3가 나왔습니다.\n",
      " 6번째 주사위가 데구르르~~~~~ 굴러서 3가 나왔습니다.\n",
      " 7번째 주사위가 데구르르~~~~~ 굴러서 3가 나왔습니다.\n",
      " 8번째 주사위가 데구르르~~~~~ 굴러서 3가 나왔습니다.\n",
      " 9번째 주사위가 데구르르~~~~~ 굴러서 4가 나왔습니다.\n",
      "10번째 주사위가 데구르르~~~~~ 굴러서 1가 나왔습니다.\n",
      "1의 개수 : 1개\n",
      "2의 개수 : 0개\n",
      "3의 개수 : 5개\n",
      "4의 개수 : 2개\n",
      "5의 개수 : 0개\n",
      "6의 개수 : 2개\n"
     ]
    }
   ],
   "source": [
    "import random as r\n",
    "count = [0 for i in range(6)]\n",
    "for i in range(10):\n",
    "    j = r.randrange(1, 7)\n",
    "    print('{0:2d}번째 주사위가 데구르르~~~~~ 굴러서 {1}가 나왔습니다.'.format(i + 1, j))\n",
    "    count[j - 1] += 1 # a += 1\n",
    "        \n",
    "for i in range(6):\n",
    "    print('{}의 개수 : {}개'.format(i + 1, count[i]))"
   ]
  },
  {
   "cell_type": "markdown",
   "metadata": {},
   "source": [
    "리스트, 튜플, 딕셔너리, set과 같이 사용하는 for\n",
    "\n",
    "for 변수 in 리스트, 튜플, 딕셔너리, set:  \n",
    "&nbsp;&nbsp;&nbsp;&nbsp;반복할 문장  \n",
    "&nbsp;&nbsp;&nbsp;&nbsp;...  \n",
    "\n",
    "리스트, 튜플, 딕셔너리, set의 0번째 위치에 저장된 값을 변수에 저장한 후 반복을 시작하고 한 번 반복 수 다음 위치의 값을 변수에 저장한 후 반복한다.  \n",
    "마지막 위치의 값을 변수에 저장한 후 반복한 다음 반복문을 종료한다."
   ]
  },
  {
   "cell_type": "code",
   "execution_count": 30,
   "metadata": {},
   "outputs": [
    {
     "name": "stdout",
     "output_type": "stream",
     "text": [
      "['Life', 'is', 'too', 'short']\n",
      "***************************************************************************\n",
      "Life\n",
      "is\n",
      "too\n",
      "short\n",
      "***************************************************************************\n",
      "4\n",
      "Life\n",
      "is\n",
      "too\n",
      "short\n",
      "***************************************************************************\n",
      "Life\n",
      "is\n",
      "too\n",
      "short\n",
      "***************************************************************************\n",
      "is\n",
      "too\n"
     ]
    }
   ],
   "source": [
    "# 리스트와 for\n",
    "l = ['Life', 'is', 'too', 'short']\n",
    "print(l)\n",
    "print('*' * 75)\n",
    "# 리스트에 저장된 데이터의 개수가 변하지 않을때 지정한 크기만큼 반복한다.\n",
    "for i in range(4):\n",
    "    print(l[i])\n",
    "print('*' * 75)\n",
    "# 리스트에 저장된 데이터가 변할 수 있으므로 len() 함수로 데이터의 개수를 얻어서 개수만큼 반복한다.\n",
    "print(len(l))\n",
    "for i in range(len(l)):\n",
    "    print(l[i])\n",
    "print('*' * 75)\n",
    "# 리스트에 저장된 0번째 데이터 부터 마지막 데이터 까지 차례대로 변수 i에 저장되며 반복한다.\n",
    "for i in l:\n",
    "    print(i)\n",
    "print('*' * 75)\n",
    "# 리스트의 슬라이싱 기능을 사용하면 리스트의 일부분만 반복시킬 수 있다.\n",
    "for i in l[1:3]:\n",
    "    print(i)"
   ]
  },
  {
   "cell_type": "code",
   "execution_count": 31,
   "metadata": {},
   "outputs": [
    {
     "name": "stdout",
     "output_type": "stream",
     "text": [
      "총점 : 366\n"
     ]
    }
   ],
   "source": [
    "scores = [90, 25, 67, 45, 80, 59]\n",
    "total = 0\n",
    "for score in scores:\n",
    "    total += score\n",
    "print('총점 : {}'.format(total))"
   ]
  },
  {
   "cell_type": "code",
   "execution_count": 32,
   "metadata": {},
   "outputs": [
    {
     "name": "stdout",
     "output_type": "stream",
     "text": [
      "총점 : 366\n"
     ]
    }
   ],
   "source": [
    "scores = [90, 25, 67, 45, 80, 59]\n",
    "total = 0\n",
    "for i in range(len(scores)):\n",
    "    total += scores[i]\n",
    "print('총점 : {}'.format(total))"
   ]
  },
  {
   "cell_type": "code",
   "execution_count": 35,
   "metadata": {},
   "outputs": [
    {
     "name": "stdout",
     "output_type": "stream",
     "text": [
      "총점 : 366\n",
      "총점 : 366\n"
     ]
    }
   ],
   "source": [
    "# 튜플과 for\n",
    "scores = (90, 25, 67, 45, 80, 59)\n",
    "total = 0\n",
    "for score in scores:\n",
    "    total += score\n",
    "print('총점 : {}'.format(total))\n",
    "\n",
    "total = 0\n",
    "for i in range(len(scores)):\n",
    "    total += scores[i]\n",
    "print('총점 : {}'.format(total))"
   ]
  },
  {
   "cell_type": "code",
   "execution_count": 37,
   "metadata": {},
   "outputs": [
    {
     "name": "stdout",
     "output_type": "stream",
     "text": [
      "총점 : 366\n"
     ]
    }
   ],
   "source": [
    "# set과 for\n",
    "scores = {90, 25, 67, 45, 80, 59}\n",
    "total = 0\n",
    "for score in scores:\n",
    "    total += score\n",
    "print('총점 : {}'.format(total))\n",
    "\n",
    "# set은 입력되는 순서와 저장되는 순서가 달라 인덱싱을 사용할 수 없으므로 에러가 발생된다.\n",
    "# total = 0\n",
    "# for i in range(len(scores)):\n",
    "    # total += scores[i] # 에러 발생\n",
    "# print('총점 : {}'.format(total))"
   ]
  },
  {
   "cell_type": "code",
   "execution_count": 38,
   "metadata": {},
   "outputs": [
    {
     "name": "stdout",
     "output_type": "stream",
     "text": [
      "{'apple': 1000, 'melon': 10000, 'banana': 3500, 'mango': 5900}\n"
     ]
    }
   ],
   "source": [
    "# 딕셔너리와 for\n",
    "d = {'apple': 1000, 'melon': 10000, 'banana': 3500, 'mango': 5900}\n",
    "print(d)"
   ]
  },
  {
   "cell_type": "code",
   "execution_count": 41,
   "metadata": {},
   "outputs": [
    {
     "name": "stdout",
     "output_type": "stream",
     "text": [
      "apple\n",
      "melon\n",
      "banana\n",
      "mango\n",
      "apple\n",
      "melon\n",
      "banana\n",
      "mango\n"
     ]
    }
   ],
   "source": [
    "for i in d: # 딕셔너리 이름만 적으면 딕셔너리이름.keys()와 똑같이 사용된다.\n",
    "    print(i)\n",
    "for i in d.keys():\n",
    "    print(i)"
   ]
  },
  {
   "cell_type": "code",
   "execution_count": 45,
   "metadata": {},
   "outputs": [
    {
     "name": "stdout",
     "output_type": "stream",
     "text": [
      "1000\n",
      "10000\n",
      "3500\n",
      "5900\n",
      "apple : 1000원\n",
      "melon : 10000원\n",
      "banana : 3500원\n",
      "mango : 5900원\n"
     ]
    }
   ],
   "source": [
    "for i in d.values():\n",
    "    print(i)\n",
    "for i in d.keys():\n",
    "    print('{} : {}원'.format(i, d.get(i)))"
   ]
  },
  {
   "cell_type": "code",
   "execution_count": 48,
   "metadata": {},
   "outputs": [
    {
     "name": "stdout",
     "output_type": "stream",
     "text": [
      "('apple', 1000)\n",
      "('melon', 10000)\n",
      "('banana', 3500)\n",
      "('mango', 5900)\n",
      "apple : 1000원\n",
      "melon : 10000원\n",
      "banana : 3500원\n",
      "mango : 5900원\n",
      "apple : 1000원\n",
      "melon : 10000원\n",
      "banana : 3500원\n",
      "mango : 5900원\n"
     ]
    }
   ],
   "source": [
    "for i in d.items():\n",
    "    print(i)\n",
    "for i in d.items():\n",
    "    print('{} : {}원'.format(i[0], i[1]))\n",
    "for key, value in d.items():\n",
    "    print('{} : {}원'.format(key, value))"
   ]
  },
  {
   "cell_type": "code",
   "execution_count": null,
   "metadata": {},
   "outputs": [],
   "source": []
  },
  {
   "cell_type": "code",
   "execution_count": null,
   "metadata": {},
   "outputs": [],
   "source": []
  },
  {
   "cell_type": "code",
   "execution_count": null,
   "metadata": {},
   "outputs": [],
   "source": []
  },
  {
   "cell_type": "code",
   "execution_count": null,
   "metadata": {},
   "outputs": [],
   "source": []
  },
  {
   "cell_type": "code",
   "execution_count": null,
   "metadata": {},
   "outputs": [],
   "source": []
  }
 ],
 "metadata": {
  "kernelspec": {
   "display_name": "Python 3",
   "language": "python",
   "name": "python3"
  },
  "language_info": {
   "codemirror_mode": {
    "name": "ipython",
    "version": 3
   },
   "file_extension": ".py",
   "mimetype": "text/x-python",
   "name": "python",
   "nbconvert_exporter": "python",
   "pygments_lexer": "ipython3",
   "version": "3.6.8"
  }
 },
 "nbformat": 4,
 "nbformat_minor": 4
}
