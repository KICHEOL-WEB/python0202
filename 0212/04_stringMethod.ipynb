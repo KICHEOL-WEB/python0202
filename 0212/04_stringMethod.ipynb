{
 "cells": [
  {
   "cell_type": "code",
   "execution_count": 1,
   "metadata": {},
   "outputs": [
    {
     "name": "stdout",
     "output_type": "stream",
     "text": [
      "We are the champions, My friend!\n"
     ]
    }
   ],
   "source": [
    "string = 'We are the champions, My friend!'\n",
    "print(string)"
   ]
  },
  {
   "cell_type": "code",
   "execution_count": 5,
   "metadata": {},
   "outputs": [
    {
     "name": "stdout",
     "output_type": "stream",
     "text": [
      "32\n",
      "!\n",
      "!\n"
     ]
    }
   ],
   "source": [
    "# len() : 인수로 지정된 문자열을 구성하는 문자의 개수를 얻어온다.\n",
    "print(len(string))\n",
    "print(string[-1])\n",
    "print(string[len(string) - 1])"
   ]
  },
  {
   "cell_type": "code",
   "execution_count": 8,
   "metadata": {},
   "outputs": [
    {
     "name": "stdout",
     "output_type": "stream",
     "text": [
      "4\n",
      "0\n",
      "1\n"
     ]
    }
   ],
   "source": [
    "# count() : 인수로 지정된 문자열의 출연 횟수를 얻어온다.\n",
    "# count() 메소드를 실행한 결과가 1 이상이라면 인수로 지정된 문자열을 포함하고 있다.\n",
    "print(string.count('e'))\n",
    "print(string.count('we'))\n",
    "print(string.count('We'))"
   ]
  },
  {
   "cell_type": "code",
   "execution_count": 10,
   "metadata": {},
   "outputs": [
    {
     "name": "stdout",
     "output_type": "stream",
     "text": [
      "7\n",
      "-1\n"
     ]
    }
   ],
   "source": [
    "# find() : 인수로 지정된 문자열이 처음 출연하는 위치를 얻어온다.\n",
    "# find() 메소드를 실행한 결과가 0 이상이라면 인수로 지정된 문자열을 포함하고 있다.\n",
    "print(string.find('the'))\n",
    "print(string.find('The')) # 찾는 문자열이 없으면 -1을 리턴한다."
   ]
  },
  {
   "cell_type": "code",
   "execution_count": 12,
   "metadata": {},
   "outputs": [
    {
     "name": "stdout",
     "output_type": "stream",
     "text": [
      "7\n"
     ]
    },
    {
     "ename": "ValueError",
     "evalue": "substring not found",
     "output_type": "error",
     "traceback": [
      "\u001b[1;31m---------------------------------------------------------------------------\u001b[0m",
      "\u001b[1;31mValueError\u001b[0m                                Traceback (most recent call last)",
      "\u001b[1;32m<ipython-input-12-33da59cfac80>\u001b[0m in \u001b[0;36m<module>\u001b[1;34m\u001b[0m\n\u001b[0;32m      1\u001b[0m \u001b[1;31m# index() : 인수로 지정된 문자열이 처음 나타나는 위치를 얻어온다.\u001b[0m\u001b[1;33m\u001b[0m\u001b[1;33m\u001b[0m\u001b[1;33m\u001b[0m\u001b[0m\n\u001b[0;32m      2\u001b[0m \u001b[0mprint\u001b[0m\u001b[1;33m(\u001b[0m\u001b[0mstring\u001b[0m\u001b[1;33m.\u001b[0m\u001b[0mindex\u001b[0m\u001b[1;33m(\u001b[0m\u001b[1;34m'the'\u001b[0m\u001b[1;33m)\u001b[0m\u001b[1;33m)\u001b[0m\u001b[1;33m\u001b[0m\u001b[1;33m\u001b[0m\u001b[0m\n\u001b[1;32m----> 3\u001b[1;33m \u001b[0mprint\u001b[0m\u001b[1;33m(\u001b[0m\u001b[0mstring\u001b[0m\u001b[1;33m.\u001b[0m\u001b[0mindex\u001b[0m\u001b[1;33m(\u001b[0m\u001b[1;34m'The'\u001b[0m\u001b[1;33m)\u001b[0m\u001b[1;33m)\u001b[0m\u001b[1;33m\u001b[0m\u001b[1;33m\u001b[0m\u001b[0m\n\u001b[0m",
      "\u001b[1;31mValueError\u001b[0m: substring not found"
     ]
    }
   ],
   "source": [
    "# index() : 인수로 지정된 문자열이 처음 나타나는 위치를 얻어온다.\n",
    "print(string.index('the'))\n",
    "print(string.index('The')) # 찾는 문자열이 없으면 substring not found 에러를 발생시킨다."
   ]
  },
  {
   "cell_type": "code",
   "execution_count": 13,
   "metadata": {},
   "outputs": [],
   "source": [
    "string = 'TjoeunIT'"
   ]
  },
  {
   "cell_type": "code",
   "execution_count": 15,
   "metadata": {},
   "outputs": [
    {
     "name": "stdout",
     "output_type": "stream",
     "text": [
      "T/j/o/e/u/n/I/T\n",
      "T^^;j^^;o^^;e^^;u^^;n^^;I^^;T\n"
     ]
    }
   ],
   "source": [
    "# join() : 인수로 지정된 문자열에 '.' 앞의 문자열을 삽입한다.\n",
    "print('/'.join(string))\n",
    "print('^^;'.join(string))"
   ]
  },
  {
   "cell_type": "code",
   "execution_count": 17,
   "metadata": {},
   "outputs": [
    {
     "name": "stdout",
     "output_type": "stream",
     "text": [
      "TJOEUNIT\n",
      "tjoeunit\n"
     ]
    }
   ],
   "source": [
    "# upper() : 문자열을 무조건 대문자로 변환한다.\n",
    "print(string.upper())\n",
    "# lower() : 문자열을 무조건 소문자로 변환한다.\n",
    "print(string.lower())"
   ]
  },
  {
   "cell_type": "code",
   "execution_count": 23,
   "metadata": {},
   "outputs": [],
   "source": [
    "string = '   python   '"
   ]
  },
  {
   "cell_type": "code",
   "execution_count": 30,
   "metadata": {},
   "outputs": [
    {
     "name": "stdout",
     "output_type": "stream",
     "text": [
      "   python   \n",
      "12\n",
      "python   \n",
      "9\n",
      "   python\n",
      "9\n",
      "python\n",
      "6\n"
     ]
    }
   ],
   "source": [
    "print(string)\n",
    "print(len(string))\n",
    "# lstrip() : 문자열 왼쪽의 불필요한 공백을 제거한다.\n",
    "print(string.lstrip())\n",
    "print(len(string.lstrip()))\n",
    "# rstrip() : 문자열 오른쪽의 불필요한 공백을 제거한다.\n",
    "print(string.rstrip())\n",
    "print(len(string.rstrip()))\n",
    "# strip() : 문자열 앞뒤의 불필요한 공백을 제거한다.\n",
    "print(string.strip())\n",
    "print(len(string.strip()))"
   ]
  },
  {
   "cell_type": "code",
   "execution_count": 31,
   "metadata": {},
   "outputs": [],
   "source": [
    "string = 'We are the champions, My friend!'"
   ]
  },
  {
   "cell_type": "code",
   "execution_count": 33,
   "metadata": {},
   "outputs": [
    {
     "name": "stdout",
     "output_type": "stream",
     "text": [
      "We are the champions, Your friend!\n",
      "W^^; ar^^; th^^; champions, My fri^^;nd!\n"
     ]
    }
   ],
   "source": [
    "# replace(old, new) : old 문자열을 new 문자열로 치환한다.\n",
    "print(string.replace('My', 'Your'))\n",
    "print(string.replace('e', '^^;'))"
   ]
  },
  {
   "cell_type": "code",
   "execution_count": 35,
   "metadata": {},
   "outputs": [
    {
     "name": "stdout",
     "output_type": "stream",
     "text": [
      "['We', 'are', 'the', 'champions,', 'My', 'friend!']\n",
      "<class 'list'>\n"
     ]
    }
   ],
   "source": [
    "# split() : 문자열을 구분자를 경계로 나눈다. => 나눈 결과는 list 타입으로 반환한다.\n",
    "print(string.split())\n",
    "print(type(string.split()))"
   ]
  },
  {
   "cell_type": "code",
   "execution_count": 42,
   "metadata": {},
   "outputs": [
    {
     "name": "stdout",
     "output_type": "stream",
     "text": [
      "www.example.com\n",
      ".example.com\n",
      "example\n"
     ]
    }
   ],
   "source": [
    "# strip()의 재발견\n",
    "# strip()은 문자열 양쪽의 불필요한 공백을 제거한 목적으로 주로 사용하지만 꼭 공백만 제거하는 것은\n",
    "# 아니다.\n",
    "# strip()은 인수를 지정하면 문자열 양쪽 끝의 인수로 지정된 문자열이 있으면 제거한다.\n",
    "print('www.example.com')\n",
    "print('www.example.com'.strip('w'))\n",
    "print('www.example.com'.strip('w.moc'))"
   ]
  },
  {
   "cell_type": "code",
   "execution_count": 44,
   "metadata": {},
   "outputs": [
    {
     "name": "stdout",
     "output_type": "stream",
     "text": [
      "Hello  world\n",
      "Helloworld\n"
     ]
    }
   ],
   "source": [
    "# replace()의 재발견\n",
    "# 모든 공백 제거\n",
    "print('  Hello  world  '.strip())\n",
    "print('  Hello  world  '.replace(' ', ''))"
   ]
  },
  {
   "cell_type": "code",
   "execution_count": 48,
   "metadata": {},
   "outputs": [
    {
     "name": "stdout",
     "output_type": "stream",
     "text": [
      "['Hello', 'world']\n",
      "Hello world\n"
     ]
    }
   ],
   "source": [
    "# join()과 split()을 이용해서 앞뒤의 공백은 제거하고 문자열 사이에 공백 문자가 2개 이상인 경우 \n",
    "# 공백 문자를 1개만 나오게 한다.\n",
    "print('  Hello  world  '.split())\n",
    "print(' '.join('  Hello                                     world  '.split()))"
   ]
  },
  {
   "cell_type": "code",
   "execution_count": null,
   "metadata": {},
   "outputs": [],
   "source": []
  },
  {
   "cell_type": "code",
   "execution_count": null,
   "metadata": {},
   "outputs": [],
   "source": []
  },
  {
   "cell_type": "code",
   "execution_count": null,
   "metadata": {},
   "outputs": [],
   "source": []
  }
 ],
 "metadata": {
  "kernelspec": {
   "display_name": "Python 3",
   "language": "python",
   "name": "python3"
  },
  "language_info": {
   "codemirror_mode": {
    "name": "ipython",
    "version": 3
   },
   "file_extension": ".py",
   "mimetype": "text/x-python",
   "name": "python",
   "nbconvert_exporter": "python",
   "pygments_lexer": "ipython3",
   "version": "3.6.8"
  }
 },
 "nbformat": 4,
 "nbformat_minor": 4
}
