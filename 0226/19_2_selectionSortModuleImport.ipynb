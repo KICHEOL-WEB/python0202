{
 "cells": [
  {
   "cell_type": "code",
   "execution_count": 3,
   "metadata": {},
   "outputs": [
    {
     "name": "stdout",
     "output_type": "stream",
     "text": [
      "오름차순 정렬 결과 : [1, 3, 4, 8, 9, 100]\n",
      "내림차순 정렬 결과 : [100, 9, 8, 4, 3, 1]\n"
     ]
    }
   ],
   "source": [
    "# import 하는 모듈 이름이 긴 경우 as를 이용해서 별명을 지정할 수 있다.\n",
    "# 별명이 지정되면 원래 모듈 이름은 사용할 수 없고 별명으로 지정한 이름을 사용해야 한다.\n",
    "import selectionSortModule as ssm\n",
    "\n",
    "# import된 모듈에 정의된 함수를 실행하려면 모듈이름.함수이름 형태로 사용하면 되지만 별명이 지정되면\n",
    "# 원래 모듈 이름을 사용하면 에러가 발생되고 별명으로 지정한 이름을 사용해야 한다.\n",
    "# 원래 모듈 이름을 사용하면 name 'selectionSortModule' is not defined 에러가 발생된다.\n",
    "# data = selectionSortModule.selectionSortAsc(data) # 에러 발생\n",
    "data = [8, 3, 4, 9, 1, 100]\n",
    "data = ssm.selectionSortAsc(data)\n",
    "print('오름차순 정렬 결과 : {}'.format(data))\n",
    "data = ssm.selectionSortDesc(data)\n",
    "print('내림차순 정렬 결과 : {}'.format(data))"
   ]
  },
  {
   "cell_type": "code",
   "execution_count": null,
   "metadata": {},
   "outputs": [],
   "source": []
  }
 ],
 "metadata": {
  "kernelspec": {
   "display_name": "Python 3",
   "language": "python",
   "name": "python3"
  }
 },
 "nbformat": 4,
 "nbformat_minor": 4
}
