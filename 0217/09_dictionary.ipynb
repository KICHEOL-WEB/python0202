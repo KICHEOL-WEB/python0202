{
 "cells": [
  {
   "cell_type": "markdown",
   "metadata": {},
   "source": [
    "dictionary 만들기  \n",
    "대응 관계를 나타내는 자료형으로 key와 key에 할당되는 데이터(value)가 한 쌍이 되는 자료형이다.  \n",
    "{key: value, key: value, ...}와 같은 형태를 가지는 자료형을 의미한다.  \n",
    "key는 일반적으로 string 형태로 사용하고 value에는 dictionary에 저장할 데이터를 적는다."
   ]
  },
  {
   "cell_type": "code",
   "execution_count": 4,
   "metadata": {},
   "outputs": [
    {
     "name": "stdout",
     "output_type": "stream",
     "text": [
      "{}\n",
      "<class 'dict'>\n",
      "{}\n",
      "<class 'dict'>\n"
     ]
    }
   ],
   "source": [
    "# 빈 딕셔너리 만들기\n",
    "dic1 = {}\n",
    "print(dic1)\n",
    "print(type(dic1))\n",
    "# 생성자를 사용해서 딕셔너리를 만들 수 있다.\n",
    "dic2 = dict()\n",
    "print(dic2)\n",
    "print(type(dic2))"
   ]
  },
  {
   "cell_type": "code",
   "execution_count": 6,
   "metadata": {},
   "outputs": [
    {
     "name": "stdout",
     "output_type": "stream",
     "text": [
      "{'name': '홍길동', 'phone': '010-1234-5678', 'age': 20}\n",
      "<class 'dict'>\n"
     ]
    }
   ],
   "source": [
    "dic3 = {'name': '홍길동', 'phone': '010-1234-5678', 'age': 20}\n",
    "print(dic3)\n",
    "print(type(dic3))"
   ]
  },
  {
   "cell_type": "markdown",
   "metadata": {},
   "source": [
    "딕셔너리에 데이터 추가 및 수정하기  \n",
    "존재하지 않는 key에 value를 할당하면 데이터가 추가되고 존재하는 key에 데이터를 할당하면 데이터가 제거된다."
   ]
  },
  {
   "cell_type": "code",
   "execution_count": 11,
   "metadata": {},
   "outputs": [
    {
     "name": "stdout",
     "output_type": "stream",
     "text": [
      "{'name': '홍길동', 'phone': '010-1234-5678', 'age': 20, 'gender': '남'}\n",
      "{'name': '홍길동', 'phone': '010-1234-5678', 'age': 20, 'gender': '여'}\n"
     ]
    }
   ],
   "source": [
    "# 딕서녀리이름[key] = value\n",
    "dic3['gender'] = '남' # 추가\n",
    "print(dic3)\n",
    "dic3['gender'] = '여' # 수정\n",
    "print(dic3)"
   ]
  },
  {
   "cell_type": "markdown",
   "metadata": {},
   "source": [
    "딕셔너리에 저장된 데이터 삭제하기"
   ]
  },
  {
   "cell_type": "code",
   "execution_count": 12,
   "metadata": {},
   "outputs": [
    {
     "name": "stdout",
     "output_type": "stream",
     "text": [
      "{'name': '홍길동', 'phone': '010-1234-5678', 'age': 20}\n"
     ]
    }
   ],
   "source": [
    "# del 딕셔너리이름[key]\n",
    "del dic3['gender']\n",
    "print(dic3)"
   ]
  },
  {
   "cell_type": "markdown",
   "metadata": {},
   "source": [
    "딕셔너리에 저장된 데이터 얻어오기"
   ]
  },
  {
   "cell_type": "code",
   "execution_count": 14,
   "metadata": {},
   "outputs": [
    {
     "name": "stdout",
     "output_type": "stream",
     "text": [
      "010-1234-5678\n",
      "010-1234-5678\n"
     ]
    }
   ],
   "source": [
    "# 딕셔너리이름[key] 또는 딕셔너리이름.get(key)\n",
    "print(dic3['phone'])\n",
    "print(dic3.get('phone'))"
   ]
  },
  {
   "cell_type": "markdown",
   "metadata": {},
   "source": [
    "딕셔너리 메소드"
   ]
  },
  {
   "cell_type": "code",
   "execution_count": 17,
   "metadata": {},
   "outputs": [
    {
     "name": "stdout",
     "output_type": "stream",
     "text": [
      "dict_keys(['name', 'phone', 'age'])\n",
      "dict_values(['홍길동', '010-1234-5678', 20])\n",
      "dict_items([('name', '홍길동'), ('phone', '010-1234-5678'), ('age', 20)])\n"
     ]
    }
   ],
   "source": [
    "# keys() : 딕셔너리에서 key 목록만 얻어온다.\n",
    "print(dic3.keys())\n",
    "# values() : 딕셔너리에서 value 목록만 얻어온다.\n",
    "print(dic3.values())\n",
    "# items() : 딕셔너리에서 key와 value를 쌍으로 묶은 튜플을 얻어온다.\n",
    "print(dic3.items())"
   ]
  },
  {
   "cell_type": "markdown",
   "metadata": {},
   "source": [
    "in 연산자, not in 연산자  \n",
    "in 연산자는 in 앞의 key가 in 뒤의 딕셔너리에 존재하면 True, 그렇치 않으면 False를 리턴한다.  \n",
    "not in 연산자는 in 연산자의 반대 기능을 실행한다."
   ]
  },
  {
   "cell_type": "code",
   "execution_count": 19,
   "metadata": {},
   "outputs": [
    {
     "name": "stdout",
     "output_type": "stream",
     "text": [
      "True\n",
      "False\n"
     ]
    }
   ],
   "source": [
    "print('name' in dic3)\n",
    "print('name' not in dic3)"
   ]
  },
  {
   "cell_type": "code",
   "execution_count": 20,
   "metadata": {},
   "outputs": [
    {
     "name": "stdout",
     "output_type": "stream",
     "text": [
      "{}\n"
     ]
    }
   ],
   "source": [
    "# clear() : 딕셔너리에 저장된 모든 데이터를 삭제한다.\n",
    "dic3.clear()\n",
    "print(dic3)"
   ]
  },
  {
   "cell_type": "code",
   "execution_count": null,
   "metadata": {},
   "outputs": [],
   "source": []
  }
 ],
 "metadata": {
  "kernelspec": {
   "display_name": "Python 3",
   "language": "python",
   "name": "python3"
  },
  "language_info": {
   "codemirror_mode": {
    "name": "ipython",
    "version": 3
   },
   "file_extension": ".py",
   "mimetype": "text/x-python",
   "name": "python",
   "nbconvert_exporter": "python",
   "pygments_lexer": "ipython3",
   "version": "3.6.8"
  }
 },
 "nbformat": 4,
 "nbformat_minor": 4
}
