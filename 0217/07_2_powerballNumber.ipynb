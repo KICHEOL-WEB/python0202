{
 "cells": [
  {
   "cell_type": "markdown",
   "metadata": {},
   "source": [
    "미국 로또는 1 ~ 69 사이에서 5개, 1 ~ 26 사이에서 1개"
   ]
  },
  {
   "cell_type": "code",
   "execution_count": 17,
   "metadata": {},
   "outputs": [
    {
     "name": "stdout",
     "output_type": "stream",
     "text": [
      "흰공 : 39 58 14 57 02 빨강공 : 07\n"
     ]
    }
   ],
   "source": [
    "import random\n",
    "import time\n",
    "\n",
    "powerball = []\n",
    "for i in range(1, 70):\n",
    "    powerball.append(i)\n",
    "for i in range(1000000):\n",
    "    r = random.randrange(1, 69)\n",
    "    powerball[0], powerball[r] = powerball[r], powerball[0]  \n",
    "print('흰공 : ', end = '')\n",
    "for i in range(5):\n",
    "    print('{0:02d} '.format(powerball[i]), end = '')\n",
    "    time.sleep(0.5)\n",
    "print('빨강공 : {0:02d}'.format(random.randrange(1, 27)))"
   ]
  },
  {
   "cell_type": "code",
   "execution_count": null,
   "metadata": {},
   "outputs": [],
   "source": []
  }
 ],
 "metadata": {
  "kernelspec": {
   "display_name": "Python 3",
   "language": "python",
   "name": "python3"
  },
  "language_info": {
   "codemirror_mode": {
    "name": "ipython",
    "version": 3
   },
   "file_extension": ".py",
   "mimetype": "text/x-python",
   "name": "python",
   "nbconvert_exporter": "python",
   "pygments_lexer": "ipython3",
   "version": "3.6.8"
  }
 },
 "nbformat": 4,
 "nbformat_minor": 4
}
