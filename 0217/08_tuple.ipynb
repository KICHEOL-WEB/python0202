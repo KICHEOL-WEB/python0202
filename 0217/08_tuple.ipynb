{
 "cells": [
  {
   "cell_type": "markdown",
   "metadata": {},
   "source": [
    "튜플 만들기  \n",
    "tuple은 list와 거의 비슷하지만 list []로 둘러싸고 tuple ()로 둘러싼다는 것과 list는 데이터를 수정, 삭제가 가능하지만 tuple은 불가능하다."
   ]
  },
  {
   "cell_type": "code",
   "execution_count": 4,
   "metadata": {},
   "outputs": [
    {
     "name": "stdout",
     "output_type": "stream",
     "text": [
      "()\n",
      "<class 'tuple'>\n",
      "()\n",
      "<class 'tuple'>\n"
     ]
    }
   ],
   "source": [
    "# 빈 튜플 만들기\n",
    "t1 = ()\n",
    "print(t1)\n",
    "print(type(t1))\n",
    "# 생성자를 이용해 빈 튜플 만들기\n",
    "t2 = tuple()\n",
    "print(t2)\n",
    "print(type(t2))"
   ]
  },
  {
   "cell_type": "code",
   "execution_count": 7,
   "metadata": {},
   "outputs": [
    {
     "name": "stdout",
     "output_type": "stream",
     "text": [
      "(1,)\n",
      "<class 'tuple'>\n"
     ]
    }
   ],
   "source": [
    "# 1개의 데이터만 가지는 튜플을 만들어야 할 경우 반드시 데이터 뒤에 ','를 찍어줘야 한다.\n",
    "t3 = (1,)\n",
    "print(t3)\n",
    "print(type(t3))"
   ]
  },
  {
   "cell_type": "code",
   "execution_count": 8,
   "metadata": {},
   "outputs": [
    {
     "name": "stdout",
     "output_type": "stream",
     "text": [
      "(1, 2)\n",
      "<class 'tuple'>\n",
      "(1, 2, 3)\n",
      "<class 'tuple'>\n"
     ]
    }
   ],
   "source": [
    "t4 = (1, 2)\n",
    "print(t4)\n",
    "print(type(t4))\n",
    "t5 = (1, 2, 3)\n",
    "print(t5)\n",
    "print(type(t5))"
   ]
  },
  {
   "cell_type": "code",
   "execution_count": 13,
   "metadata": {},
   "outputs": [
    {
     "name": "stdout",
     "output_type": "stream",
     "text": [
      "(1, 2, 3, 4, 5, 6)\n",
      "<class 'tuple'>\n",
      "('a', 'b', ('ab', 'cd'))\n",
      "<class 'tuple'>\n"
     ]
    }
   ],
   "source": [
    "# 튜플은 ()를 생략해도 하나의 변수에 데이터를 ','로 구분해서 여러개를 넣어주면 튜플로 인식된다.\n",
    "t6 = 1, 2, 3, 4, 5, 6 # 튜플 생성시 ()를 생략했다.\n",
    "print(t6)\n",
    "print(type(t6))\n",
    "t7 = ('a', 'b', ('ab', 'cd'))\n",
    "print(t7)\n",
    "print(type(t7))\n",
    "# t7[0] = 'z' # 튜플에 저장된 데이터를 수정하려 했으므로 에러가 발생된다.\n",
    "# del t7[0]   # 튜플에 저장된 데이터를 삭제하려 했으므로 에러가 발생된다."
   ]
  },
  {
   "cell_type": "code",
   "execution_count": 22,
   "metadata": {},
   "outputs": [
    {
     "name": "stdout",
     "output_type": "stream",
     "text": [
      "a\n",
      "('ab', 'cd')\n",
      "ab\n",
      "***************************************************************************\n",
      "('a', 'b')\n",
      "('a', 'b')\n",
      "('b', ('ab', 'cd'))\n",
      "***************************************************************************\n",
      "(1, 2, 3, 4, 5, 6, 'a', 'b', ('ab', 'cd'))\n",
      "(1, 2, 3, 4, 5, 6, 1, 2, 3, 4, 5, 6, 1, 2, 3, 4, 5, 6)\n"
     ]
    }
   ],
   "source": [
    "# 리스트와 같이 인덱싱과 슬라이싱이 가능하다.\n",
    "print(t7[0])\n",
    "print(t7[2])\n",
    "print(t7[2][0])\n",
    "print('*' * 75)\n",
    "print(t7[0:2])\n",
    "print(t7[:2])\n",
    "print(t7[1:])\n",
    "print('*' * 75)\n",
    "print(t6 + t7)\n",
    "print(t6 * 3)"
   ]
  },
  {
   "cell_type": "code",
   "execution_count": null,
   "metadata": {},
   "outputs": [],
   "source": []
  },
  {
   "cell_type": "code",
   "execution_count": null,
   "metadata": {},
   "outputs": [],
   "source": []
  },
  {
   "cell_type": "code",
   "execution_count": null,
   "metadata": {},
   "outputs": [],
   "source": []
  },
  {
   "cell_type": "code",
   "execution_count": null,
   "metadata": {},
   "outputs": [],
   "source": []
  }
 ],
 "metadata": {
  "kernelspec": {
   "display_name": "Python 3",
   "language": "python",
   "name": "python3"
  },
  "language_info": {
   "codemirror_mode": {
    "name": "ipython",
    "version": 3
   },
   "file_extension": ".py",
   "mimetype": "text/x-python",
   "name": "python",
   "nbconvert_exporter": "python",
   "pygments_lexer": "ipython3",
   "version": "3.6.8"
  }
 },
 "nbformat": 4,
 "nbformat_minor": 4
}
