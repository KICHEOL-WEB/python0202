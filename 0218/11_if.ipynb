{
 "cells": [
  {
   "cell_type": "markdown",
   "metadata": {},
   "source": [
    "if 명령의 형식  \n",
    "if 조건식:  \n",
    "&nbsp;&nbsp;&nbsp;&nbsp;조건식이 참일 경우 실행할 문장  \n",
    "&nbsp;&nbsp;&nbsp;&nbsp;...  \n",
    "else:  \n",
    "&nbsp;&nbsp;&nbsp;&nbsp;조건식이 거짓일 경우 실행할 문장  \n",
    "&nbsp;&nbsp;&nbsp;&nbsp;...  \n",
    "\n",
    "조건을 만족하지 않을 때 아무런 일도 하지 않는다면 else 이하를 생략할 수 있다."
   ]
  },
  {
   "cell_type": "code",
   "execution_count": 1,
   "metadata": {},
   "outputs": [],
   "source": [
    "# 관계(비교) 연산자 => 연산 결과는 무조건 True 또는 False 이다. 데이터를 비교한다.\n",
    "# >  : 크다, 초과\n",
    "# >= : 크거나 같다, 이상\n",
    "# <  : 작다, 미만\n",
    "# <= : 작거나 같다, 이하\n",
    "# == : 같다\n",
    "# != : 같지 않다\n",
    "\n",
    "# 논리 연산자 => 연산 결과는 무조건 True 또는 False 이다. 논리값을 비교한다.\n",
    "# and : 논리곱, 두 조건의 결과가 모두 참일 경우에만 참, ~이고, ~이면서, ~중에서\n",
    "# or  : 논리합, 두 조건의 결과가 한 개 이상 참일 경우에 참, ~이거나, ~또는\n",
    "# not : 논리 부정"
   ]
  },
  {
   "cell_type": "code",
   "execution_count": 2,
   "metadata": {},
   "outputs": [
    {
     "name": "stdout",
     "output_type": "stream",
     "text": [
      "나이를 입력하세요 : 18\n",
      "미성년자입니다. 어여 집에가~~~~~\n"
     ]
    }
   ],
   "source": [
    "age = int(input('나이를 입력하세요 : '))\n",
    "# print(type(age))\n",
    "if age >= 19:\n",
    "    # print('성인입니다. 어서오세요.')\n",
    "    # 만약에 조건이 참일 경우 아무런 문장도 실행하지 않는다고 아무 문장도 입력하지 않으면 에러가\n",
    "    # 발생된다. 에러가 발생되지 않게 하려면 pass 라고 입력하면 된다.\n",
    "    pass\n",
    "else:\n",
    "    print('미성년자입니다. 어여 집에가~~~~~')"
   ]
  },
  {
   "cell_type": "code",
   "execution_count": 3,
   "metadata": {},
   "outputs": [
    {
     "name": "stdout",
     "output_type": "stream",
     "text": [
      "주민등록번호 13자리를 \"-\"없이 입력하세요 : 8304221185600\n",
      "8304221185600\n",
      "1\n",
      "남자\n",
      "남자\n",
      "남자\n",
      "남자\n",
      "남자\n"
     ]
    }
   ],
   "source": [
    "jumin = input('주민등록번호 13자리를 \"-\"없이 입력하세요 : ')\n",
    "print(jumin)\n",
    "print(jumin[6])\n",
    "\n",
    "if jumin[6] == '1' or jumin[6] == '3' or jumin[6] == '5':\n",
    "    print('남자')\n",
    "else:\n",
    "    print('여자')\n",
    "    \n",
    "if jumin[6] in ('1', '3', '5'):\n",
    "    print('남자')\n",
    "else:\n",
    "    print('여자')\n",
    "    \n",
    "if int(jumin[6]) == 1 or int(jumin[6]) == 3 or int(jumin[6]) == 5:\n",
    "    print('남자')\n",
    "else:\n",
    "    print('여자')\n",
    "    \n",
    "if int(jumin[6]) in (1, 3, 5):\n",
    "    print('남자')\n",
    "else:\n",
    "    print('여자')\n",
    "    \n",
    "if int(jumin[6]) % 2 == 1:\n",
    "    print('남자')\n",
    "else:\n",
    "    print('여자')"
   ]
  },
  {
   "cell_type": "code",
   "execution_count": 4,
   "metadata": {},
   "outputs": [
    {
     "name": "stdout",
     "output_type": "stream",
     "text": [
      "3과목의 점수를 입력하세요 : 100 100 99\n",
      "총점 : 299점, 평균 :  99.7점 입니다.\n",
      "평균 점수 :  99.7점, 등급 : A\n"
     ]
    }
   ],
   "source": [
    "# 3과목의 점수를 입력받아 평균을 계산한 후 A, B, C, D, F를 출력한다.\n",
    "python, java, android = map(int, input('3과목의 점수를 입력하세요 : ').split())\n",
    "total = python + java + android\n",
    "average = total / 3\n",
    "print('총점 : {0:3d}점, 평균 : {1:5.1f}점 입니다.'.format(total, average))\n",
    "\n",
    "# 파이썬은 아래와 같이 주석으로 처리한 비교를 허용한다.\n",
    "# if(80 <= average < 90):\n",
    "    # print('평균 점수 : {0:5.1f}점, 등급 : B'.format(average))\n",
    "\n",
    "if average >= 90:\n",
    "    print('평균 점수 : {0:5.1f}점, 등급 : A'.format(average))\n",
    "elif(average >= 80):\n",
    "    print('평균 점수 : {0:5.1f}점, 등급 : B'.format(average))\n",
    "elif(average >= 70):\n",
    "    print('평균 점수 : {0:5.1f}점, 등급 : C'.format(average))\n",
    "elif(average >= 60):\n",
    "    print('평균 점수 : {0:5.1f}점, 등급 : D'.format(average))\n",
    "else:\n",
    "    print('평균 점수 : {0:5.1f}점, 등급 : F'.format(average))"
   ]
  },
  {
   "cell_type": "code",
   "execution_count": 5,
   "metadata": {},
   "outputs": [
    {
     "name": "stdout",
     "output_type": "stream",
     "text": [
      "주민등록번호 13자리를 \"-\"없이 입력하세요 : 8304221185600\n",
      "당신의 출생년도는 1983년 이고 당신은 37살 입니다.\n"
     ]
    }
   ],
   "source": [
    "jumin = input('주민등록번호 13자리를 \"-\"없이 입력하세요 : ')\n",
    "# print(jumin[:2])\n",
    "year = int(jumin[:2])\n",
    "\n",
    "'''\n",
    "if int(jumin[6]) <= 2:\n",
    "    year += 1900\n",
    "else:\n",
    "    year += 2000\n",
    "'''\n",
    "\n",
    "# if문의 조건 비교 결과 참이거나 거짓일 때 실행할 문장이 각각 1문장일 경우 3항 연산자를 사용해서\n",
    "# 처리할 수 있다.\n",
    "# 형식 : 조건이 참일 경우 실행할 문장 if 조건식 else 조건이 거짓일 경우 실행할 문장\n",
    "# year += int(jumin[6]) <= 2 ? 1900 : 2000 => c, c++, java, c#\n",
    "year += 1900 if int(jumin[6]) <= 2 else 2000\n",
    "\n",
    "print('당신의 출생년도는 {}년 이고 당신은 {}살 입니다.'.format(year, 2020 - year))"
   ]
  },
  {
   "cell_type": "code",
   "execution_count": 6,
   "metadata": {},
   "outputs": [
    {
     "name": "stdout",
     "output_type": "stream",
     "text": [
      "윤년/평년을 판별할 년도를 입력하세요 : 2020\n",
      "2020년은 평년입니다.\n",
      "2020년은 평년입니다.\n",
      "6\n"
     ]
    }
   ],
   "source": [
    "# 윤년, 평년 판별식\n",
    "# 년도가 4로 나눠 떨어지고(and) 100으로 나눠 떨어지지 않거나(or) 400으로 나눠 떨어지면 윤년\n",
    "\n",
    "# 프로그램에서 여러 번 사용되는 상수나 연산식의 결과는 변수에 저장시켜 사용하면 편리하다.\n",
    "isLeapYear = year % 4 == 0 and year % 100 != 0 or year % 400 == 0\n",
    "\n",
    "year = int(input('윤년/평년을 판별할 년도를 입력하세요 : '))\n",
    "if isLeapYear:\n",
    "    print('{}년은 윤년입니다.'.format(year))\n",
    "else:\n",
    "    print('{}년은 평년입니다.'.format(year))\n",
    "\n",
    "# 파이썬은 1줄에 1문장을 코딩하는 것을 원칙으로 하지만 1문장이 너무 길어서 2줄 이상으로 나눠서\n",
    "# 코딩하려면 줄을 나눠줄 위치에서 '\\'를 입력하고 줄을 바꿔주면 된다.\n",
    "# print('{}년은 {}년입니다.'.format(year, '윤' if year % 4 == 0 and year % 100 != 0 or \\\n",
    "#                             year % 400 == 0 else '평'))\n",
    "print('{}년은 {}년입니다.'.format(year, '윤' if isLeapYear else '평'))\n",
    "\n",
    "\n",
    "# 짧은 길이의 문장을 1줄에 코딩하려면 문장과 문장을 ';'로 구분하면 된다.\n",
    "a = 1; b = 2; c = 3\n",
    "print(a + b + c)"
   ]
  },
  {
   "cell_type": "code",
   "execution_count": 7,
   "metadata": {},
   "outputs": [
    {
     "ename": "NameError",
     "evalue": "name 'random' is not defined",
     "output_type": "error",
     "traceback": [
      "\u001b[1;31m---------------------------------------------------------------------------\u001b[0m",
      "\u001b[1;31mNameError\u001b[0m                                 Traceback (most recent call last)",
      "\u001b[1;32m<ipython-input-7-48bf5150373e>\u001b[0m in \u001b[0;36m<module>\u001b[1;34m\u001b[0m\n\u001b[0;32m      5\u001b[0m \u001b[1;31m# 프로그램에서 random 이라는 모듈 이름은 사용할 수 없고 r 이라는 이름으로 사용해야 한다.\u001b[0m\u001b[1;33m\u001b[0m\u001b[1;33m\u001b[0m\u001b[1;33m\u001b[0m\u001b[0m\n\u001b[0;32m      6\u001b[0m \u001b[1;32mimport\u001b[0m \u001b[0mrandom\u001b[0m \u001b[1;32mas\u001b[0m \u001b[0mr\u001b[0m\u001b[1;33m\u001b[0m\u001b[1;33m\u001b[0m\u001b[0m\n\u001b[1;32m----> 7\u001b[1;33m \u001b[0mcpu\u001b[0m \u001b[1;33m=\u001b[0m \u001b[0mrandom\u001b[0m\u001b[1;33m.\u001b[0m\u001b[0mrandrange\u001b[0m\u001b[1;33m(\u001b[0m\u001b[1;36m1\u001b[0m\u001b[1;33m,\u001b[0m \u001b[1;36m4\u001b[0m\u001b[1;33m)\u001b[0m\u001b[1;33m\u001b[0m\u001b[1;33m\u001b[0m\u001b[0m\n\u001b[0m\u001b[0;32m      8\u001b[0m \u001b[0mprint\u001b[0m\u001b[1;33m(\u001b[0m\u001b[1;34m'cpu : {}'\u001b[0m\u001b[1;33m.\u001b[0m\u001b[0mformat\u001b[0m\u001b[1;33m(\u001b[0m\u001b[0mcpu\u001b[0m\u001b[1;33m)\u001b[0m\u001b[1;33m)\u001b[0m\u001b[1;33m\u001b[0m\u001b[1;33m\u001b[0m\u001b[0m\n",
      "\u001b[1;31mNameError\u001b[0m: name 'random' is not defined"
     ]
    }
   ],
   "source": [
    "# 가위(1), 바위(2), 보(3)\n",
    "# 컴퓨터가 랜덤하게 뽑아낸 가위, 바위, 보와 사용자가 입력한 가위, 바위, 보를 비교한다.\n",
    "\n",
    "# random 모듀의 별명을 r로 지정한다.\n",
    "# 프로그램에서 random 이라는 모듈 이름은 사용할 수 없고 r 이라는 이름으로 사용해야 한다.\n",
    "import random as r\n",
    "cpu = random.randrange(1, 4)\n",
    "print('cpu : {}'.format(cpu))"
   ]
  },
  {
   "cell_type": "code",
   "execution_count": null,
   "metadata": {},
   "outputs": [],
   "source": []
  },
  {
   "cell_type": "code",
   "execution_count": null,
   "metadata": {},
   "outputs": [],
   "source": []
  },
  {
   "cell_type": "code",
   "execution_count": null,
   "metadata": {},
   "outputs": [],
   "source": []
  },
  {
   "cell_type": "code",
   "execution_count": null,
   "metadata": {},
   "outputs": [],
   "source": []
  },
  {
   "cell_type": "code",
   "execution_count": null,
   "metadata": {},
   "outputs": [],
   "source": []
  }
 ],
 "metadata": {
  "kernelspec": {
   "display_name": "Python 3",
   "language": "python",
   "name": "python3"
  },
  "language_info": {
   "codemirror_mode": {
    "name": "ipython",
    "version": 3
   },
   "file_extension": ".py",
   "mimetype": "text/x-python",
   "name": "python",
   "nbconvert_exporter": "python",
   "pygments_lexer": "ipython3",
   "version": "3.6.8"
  }
 },
 "nbformat": 4,
 "nbformat_minor": 4
}
