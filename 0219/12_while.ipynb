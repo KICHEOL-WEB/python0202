{
 "cells": [
  {
   "cell_type": "markdown",
   "metadata": {},
   "source": [
    "while문은 조건이 참인 동안 반복한다. 조건이 거짓이 되면 반복을 종료한다.  \n",
    "반복 처리를 해야겠는데 몇 번 반복해야 하는지 반복 횟수를 정확히 모를 경우 사용한다.  \n",
    "while 명령의 최초 조건이 거짓일 경우 while 반복을 한 번도 실행하지 않는다.  \n",
    "while 명령의 조건이 항상 참이 될 경우 무한 루프(끝이 없는 반복)에 빠질 수 있으니 조건을 세울 때 주의를 해야 하고 의도적으로 무한 루프를 만들어 사용할 경우 반드시 종료 조건을 지정해서 무한 반복을 빠져나갈 수 있는 처리를 해야 한다. => 반복의 탈출에는 break 명령을 사용한다."
   ]
  },
  {
   "cell_type": "markdown",
   "metadata": {},
   "source": [
    "while 명령의 구조  \n",
    "while 조건식:  \n",
    "&nbsp;&nbsp;&nbsp;&nbsp;조건식이 참일 경우 실행할 문장  \n",
    "&nbsp;&nbsp;&nbsp;&nbsp;..."
   ]
  },
  {
   "cell_type": "code",
   "execution_count": 6,
   "metadata": {},
   "outputs": [
    {
     "name": "stdout",
     "output_type": "stream",
     "text": [
      "1 ~ 10의 합계 : 55\n"
     ]
    }
   ],
   "source": [
    "# 변수는 선언된 후 사용되기 전에 반드시 초기화 되어야 한다.\n",
    "i = 0      # 1에서 10까지 1씩 증가하는 변수\n",
    "total = 0  # 1에서 10까지의 합계를 기억할 변수\n",
    "while True:\n",
    "    i = i + 1 # i += 1\n",
    "    total = total + i # total += i\n",
    "    if(i == 10):\n",
    "        break\n",
    "print('1 ~ 10의 합계 : {}'.format(total))"
   ]
  },
  {
   "cell_type": "code",
   "execution_count": 9,
   "metadata": {},
   "outputs": [
    {
     "name": "stdout",
     "output_type": "stream",
     "text": [
      "어디까지 합계를 구하시렵니까? 1000\n",
      "1 ~ 1000의 합계 : 500500\n"
     ]
    }
   ],
   "source": [
    "n = int(input('어디까지 합계를 구하시렵니까? '))\n",
    "\n",
    "i = 0\n",
    "total = 0\n",
    "while i < n:\n",
    "    i = i + 1\n",
    "    total = total + i\n",
    "print('1 ~ {}의 합계 : {}'.format(n, total))"
   ]
  },
  {
   "cell_type": "code",
   "execution_count": 23,
   "metadata": {},
   "outputs": [
    {
     "name": "stdout",
     "output_type": "stream",
     "text": [
      "========================================\n",
      " 1.입력  2.보기  3.수정  4.삭제  5.종료 \n",
      "========================================\n",
      "원하는 메뉴를 입력하세요 : 5\n",
      "프로그램을 종료합니다. 바이바이~~~~~\n"
     ]
    }
   ],
   "source": [
    "menu = 0\n",
    "while menu != 5:\n",
    "    while True:\n",
    "        print('=' * 40)\n",
    "        print(' 1.입력  2.보기  3.수정  4.삭제  5.종료 ')\n",
    "        print('=' * 40)\n",
    "        menu = int(input('원하는 메뉴를 입력하세요 : '))\n",
    "        if 1 <= menu <= 5:\n",
    "            break # while 이나 for 명령의 반복 범위를 탈출한다.\n",
    "        else:\n",
    "            print('메뉴는 1 ~ 5 사이의 정수를 입력해야 합니다.')\n",
    "    # 메뉴에 1 ~ 5 사이의 정수가 입력되서 1 <= menu <= 5 조건이 참이면 이곳으로 넘어온다.\n",
    "    if menu == 1:\n",
    "        print('입력작업')\n",
    "    elif menu == 2:\n",
    "        print('보기작업')\n",
    "    elif menu == 3:\n",
    "        print('수정작업')\n",
    "    elif menu == 4:\n",
    "        print('삭제작업')\n",
    "# 메뉴에 5가 입력되었으므로 프로그램을 종료한다.\n",
    "print('프로그램을 종료합니다. 바이바이~~~~~')"
   ]
  },
  {
   "cell_type": "markdown",
   "metadata": {},
   "source": [
    "유클리드 호제법을 사용하는 최대공약수와 최소공배수 계산하기"
   ]
  },
  {
   "cell_type": "code",
   "execution_count": 28,
   "metadata": {},
   "outputs": [
    {
     "name": "stdout",
     "output_type": "stream",
     "text": [
      "최대공약수와 최소공배수를 계산할 숫자 2개를 입력하세요. 6 9\n",
      "최대공약수 : 3, 최소공배수 : 18\n"
     ]
    }
   ],
   "source": [
    "# 숫자 2개를 입력받아 큰수, 작은수를 판단한다.\n",
    "a, b = map(int, input('최대공약수와 최소공배수를 계산할 숫자 2개를 입력하세요. ').split())\n",
    "if a > b:\n",
    "    high = a; low = b\n",
    "else:\n",
    "    high = b; low = a\n",
    "\n",
    "# 큰수를 작은수로 나눈 나머지가 0이 될 때 까지 반복한다. => 몇 번을 반복해야 0이 되는지 모른다.\n",
    "# 무한 루프를 반복하다가 큰수를 작은수로 나눈 나머지가 0이 되는 순간 무한 루프를 탈출한다.\n",
    "while True:\n",
    "    # 큰수(high)를 작은수(low)로 나눈 나머지를 계산한다.\n",
    "    r = high % low\n",
    "    # 나머지가 0이면 반복으 탈출한다.\n",
    "    if r == 0:\n",
    "        break\n",
    "    # 나머지가 0이 아니므로 다음 계산을 하기 위해서 큰수에 작은수를 넣고 작은수에 나머지를 넣는다.\n",
    "    high = low\n",
    "    low = r\n",
    "\n",
    "# 큰수를 작은수로 나눈 나머지가 0이 되면 작은수가 최대공약수가 되고 입력받은 숫자 2개를 곱한 값을\n",
    "# 최대공약수로 나누면 최소공배수가 된다.\n",
    "print('최대공약수 : {}, 최소공배수 : {}'.format(low, int(a * b / low)))"
   ]
  },
  {
   "cell_type": "code",
   "execution_count": null,
   "metadata": {},
   "outputs": [],
   "source": []
  },
  {
   "cell_type": "code",
   "execution_count": null,
   "metadata": {},
   "outputs": [],
   "source": []
  },
  {
   "cell_type": "code",
   "execution_count": null,
   "metadata": {},
   "outputs": [],
   "source": []
  },
  {
   "cell_type": "code",
   "execution_count": null,
   "metadata": {},
   "outputs": [],
   "source": []
  },
  {
   "cell_type": "code",
   "execution_count": null,
   "metadata": {},
   "outputs": [],
   "source": []
  },
  {
   "cell_type": "code",
   "execution_count": null,
   "metadata": {},
   "outputs": [],
   "source": []
  },
  {
   "cell_type": "code",
   "execution_count": null,
   "metadata": {},
   "outputs": [],
   "source": []
  }
 ],
 "metadata": {
  "kernelspec": {
   "display_name": "Python 3",
   "language": "python",
   "name": "python3"
  },
  "language_info": {
   "codemirror_mode": {
    "name": "ipython",
    "version": 3
   },
   "file_extension": ".py",
   "mimetype": "text/x-python",
   "name": "python",
   "nbconvert_exporter": "python",
   "pygments_lexer": "ipython3",
   "version": "3.6.8"
  }
 },
 "nbformat": 4,
 "nbformat_minor": 4
}
