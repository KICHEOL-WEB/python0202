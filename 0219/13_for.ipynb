{
 "cells": [
  {
   "cell_type": "markdown",
   "metadata": {},
   "source": [
    "for 명령은 반복 횟수가 몇 번인지 알 경우 사용한다.  \n",
    "\n",
    "숫자 리스트를 만들어주는 함수은 range() 함수와 같이 사용하는 for  \n",
    "for 변수 in range([초기치,] 최종치 [, 증가치]):  \n",
    "&nbsp;&nbsp;&nbsp;&nbsp;반복할 문장  \n",
    "&nbsp;&nbsp;&nbsp;&nbsp;..."
   ]
  },
  {
   "cell_type": "markdown",
   "metadata": {},
   "source": [
    "range([초기치,] 최종치 [, 증가치])  \n",
    "변수 값이 초기치 부터 증가치 만큼 증가하며 최종치 - 1 까지 반복한다.  \n",
    "초기치와 증가치는 생략할 수 있으며 초기치가 생략되면 0, 증가치가 생략되면 1이 기본값으로 사용된다.  \n",
    "range(0, 10, 1)은 range(10)과 같다."
   ]
  },
  {
   "cell_type": "code",
   "execution_count": 1,
   "metadata": {},
   "outputs": [
    {
     "name": "stdout",
     "output_type": "stream",
     "text": [
      "0 1 2 3 4 5 6 7 8 9 "
     ]
    }
   ],
   "source": [
    "for i in range(0, 10, 1):\n",
    "    print(i, end = ' ')"
   ]
  },
  {
   "cell_type": "code",
   "execution_count": 2,
   "metadata": {},
   "outputs": [
    {
     "name": "stdout",
     "output_type": "stream",
     "text": [
      "0 1 2 3 4 5 6 7 8 9 "
     ]
    }
   ],
   "source": [
    "for i in range(10):\n",
    "    print(i, end = ' ')"
   ]
  },
  {
   "cell_type": "code",
   "execution_count": 3,
   "metadata": {},
   "outputs": [
    {
     "name": "stdout",
     "output_type": "stream",
     "text": [
      "1 3 5 7 9 "
     ]
    }
   ],
   "source": [
    "for i in range(1, 10, 2):\n",
    "    print(i, end = ' ')"
   ]
  },
  {
   "cell_type": "code",
   "execution_count": 5,
   "metadata": {},
   "outputs": [
    {
     "name": "stdout",
     "output_type": "stream",
     "text": [
      "2 4 6 8 10 "
     ]
    }
   ],
   "source": [
    "for i in range(2, 11, 2):\n",
    "    print(i, end = ' ')"
   ]
  },
  {
   "cell_type": "code",
   "execution_count": 7,
   "metadata": {},
   "outputs": [
    {
     "name": "stdout",
     "output_type": "stream",
     "text": [
      "10 9 8 7 6 5 4 3 2 1 "
     ]
    }
   ],
   "source": [
    "for i in range(10, 0, -1):\n",
    "    print(i, end = ' ')"
   ]
  },
  {
   "cell_type": "code",
   "execution_count": 8,
   "metadata": {},
   "outputs": [
    {
     "name": "stdout",
     "output_type": "stream",
     "text": [
      "1 ~ 100의 합계 : 5050\n"
     ]
    }
   ],
   "source": [
    "total = 0\n",
    "for i in range(1, 101):\n",
    "    total += i\n",
    "print('1 ~ 100의 합계 : {}'.format(total))"
   ]
  },
  {
   "cell_type": "markdown",
   "metadata": {},
   "source": [
    "주사위를 10번 굴렸을 때 발생되는 각각의 눈의 개수를 계산한다. - 변수 사용"
   ]
  },
  {
   "cell_type": "code",
   "execution_count": 15,
   "metadata": {},
   "outputs": [
    {
     "name": "stdout",
     "output_type": "stream",
     "text": [
      " 1번째 주사위가 데구르르~~~~~ 굴러서 6가 나왔습니다.\n",
      " 2번째 주사위가 데구르르~~~~~ 굴러서 1가 나왔습니다.\n",
      " 3번째 주사위가 데구르르~~~~~ 굴러서 2가 나왔습니다.\n",
      " 4번째 주사위가 데구르르~~~~~ 굴러서 5가 나왔습니다.\n",
      " 5번째 주사위가 데구르르~~~~~ 굴러서 5가 나왔습니다.\n",
      " 6번째 주사위가 데구르르~~~~~ 굴러서 6가 나왔습니다.\n",
      " 7번째 주사위가 데구르르~~~~~ 굴러서 2가 나왔습니다.\n",
      " 8번째 주사위가 데구르르~~~~~ 굴러서 1가 나왔습니다.\n",
      " 9번째 주사위가 데구르르~~~~~ 굴러서 5가 나왔습니다.\n",
      "10번째 주사위가 데구르르~~~~~ 굴러서 3가 나왔습니다.\n"
     ]
    }
   ],
   "source": [
    "import random as r\n",
    "# 1 ~ 6 사이의 숫자를 기억할 변수를 선언한다.\n",
    "a = 0; b = 0; c = 0; d = 0; e = 0; f = 0\n",
    "# 주사위를 10번 굴린다.\n",
    "for i in range(10):\n",
    "    j = r.randrange(1, 7)\n",
    "    print('{0:2d}번째 주사위가 데구르르~~~~~ 굴러서 {1}가 나왔습니다.'.format(i + 1, j))\n",
    "    # 주사위 눈의 개수를 센다.\n",
    "    "
   ]
  },
  {
   "cell_type": "code",
   "execution_count": null,
   "metadata": {},
   "outputs": [],
   "source": []
  },
  {
   "cell_type": "code",
   "execution_count": null,
   "metadata": {},
   "outputs": [],
   "source": []
  },
  {
   "cell_type": "code",
   "execution_count": null,
   "metadata": {},
   "outputs": [],
   "source": []
  },
  {
   "cell_type": "code",
   "execution_count": null,
   "metadata": {},
   "outputs": [],
   "source": []
  },
  {
   "cell_type": "code",
   "execution_count": null,
   "metadata": {},
   "outputs": [],
   "source": []
  },
  {
   "cell_type": "code",
   "execution_count": null,
   "metadata": {},
   "outputs": [],
   "source": []
  },
  {
   "cell_type": "code",
   "execution_count": null,
   "metadata": {},
   "outputs": [],
   "source": []
  }
 ],
 "metadata": {
  "kernelspec": {
   "display_name": "Python 3",
   "language": "python",
   "name": "python3"
  },
  "language_info": {
   "codemirror_mode": {
    "name": "ipython",
    "version": 3
   },
   "file_extension": ".py",
   "mimetype": "text/x-python",
   "name": "python",
   "nbconvert_exporter": "python",
   "pygments_lexer": "ipython3",
   "version": "3.6.8"
  }
 },
 "nbformat": 4,
 "nbformat_minor": 4
}
